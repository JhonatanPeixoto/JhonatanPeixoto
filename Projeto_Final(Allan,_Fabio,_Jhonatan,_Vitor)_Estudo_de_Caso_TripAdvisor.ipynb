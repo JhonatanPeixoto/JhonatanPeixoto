{
  "nbformat": 4,
  "nbformat_minor": 0,
  "metadata": {
    "colab": {
      "provenance": [],
      "collapsed_sections": [],
      "include_colab_link": true
    },
    "kernelspec": {
      "name": "python3",
      "display_name": "Python 3"
    },
    "language_info": {
      "name": "python"
    }
  },
  "cells": [
    {
      "cell_type": "markdown",
      "metadata": {
        "id": "view-in-github",
        "colab_type": "text"
      },
      "source": [
        "<a href=\"https://colab.research.google.com/github/JhonatanPeixoto/JhonatanPeixoto/blob/main/Projeto_Final(Allan%2C_Fabio%2C_Jhonatan%2C_Vitor)_Estudo_de_Caso_TripAdvisor.ipynb\" target=\"_parent\"><img src=\"https://colab.research.google.com/assets/colab-badge.svg\" alt=\"Open In Colab\"/></a>"
      ]
    },
    {
      "cell_type": "code",
      "execution_count": 311,
      "metadata": {
        "id": "_UYOmXFXDsDh",
        "colab": {
          "base_uri": "https://localhost:8080/"
        },
        "outputId": "54995f86-15fc-4994-a939-a7502a68c777"
      },
      "outputs": [
        {
          "output_type": "stream",
          "name": "stdout",
          "text": [
            "Looking in indexes: https://pypi.org/simple, https://us-python.pkg.dev/colab-wheels/public/simple/\n",
            "Requirement already satisfied: selenium in /usr/local/lib/python3.7/dist-packages (4.5.0)\n",
            "Requirement already satisfied: urllib3[socks]~=1.26 in /usr/local/lib/python3.7/dist-packages (from selenium) (1.26.12)\n",
            "Requirement already satisfied: trio~=0.17 in /usr/local/lib/python3.7/dist-packages (from selenium) (0.22.0)\n",
            "Requirement already satisfied: certifi>=2021.10.8 in /usr/local/lib/python3.7/dist-packages (from selenium) (2022.9.24)\n",
            "Requirement already satisfied: trio-websocket~=0.9 in /usr/local/lib/python3.7/dist-packages (from selenium) (0.9.2)\n",
            "Requirement already satisfied: idna in /usr/local/lib/python3.7/dist-packages (from trio~=0.17->selenium) (2.10)\n",
            "Requirement already satisfied: exceptiongroup>=1.0.0rc9 in /usr/local/lib/python3.7/dist-packages (from trio~=0.17->selenium) (1.0.0rc9)\n",
            "Requirement already satisfied: outcome in /usr/local/lib/python3.7/dist-packages (from trio~=0.17->selenium) (1.2.0)\n",
            "Requirement already satisfied: sortedcontainers in /usr/local/lib/python3.7/dist-packages (from trio~=0.17->selenium) (2.4.0)\n",
            "Requirement already satisfied: attrs>=19.2.0 in /usr/local/lib/python3.7/dist-packages (from trio~=0.17->selenium) (22.1.0)\n",
            "Requirement already satisfied: async-generator>=1.9 in /usr/local/lib/python3.7/dist-packages (from trio~=0.17->selenium) (1.10)\n",
            "Requirement already satisfied: sniffio in /usr/local/lib/python3.7/dist-packages (from trio~=0.17->selenium) (1.3.0)\n",
            "Requirement already satisfied: wsproto>=0.14 in /usr/local/lib/python3.7/dist-packages (from trio-websocket~=0.9->selenium) (1.2.0)\n",
            "Requirement already satisfied: PySocks!=1.5.7,<2.0,>=1.5.6 in /usr/local/lib/python3.7/dist-packages (from urllib3[socks]~=1.26->selenium) (1.7.1)\n",
            "Requirement already satisfied: h11<1,>=0.9.0 in /usr/local/lib/python3.7/dist-packages (from wsproto>=0.14->trio-websocket~=0.9->selenium) (0.14.0)\n",
            "Requirement already satisfied: typing-extensions in /usr/local/lib/python3.7/dist-packages (from h11<1,>=0.9.0->wsproto>=0.14->trio-websocket~=0.9->selenium) (4.1.1)\n",
            "Get:1 https://cloud.r-project.org/bin/linux/ubuntu bionic-cran40/ InRelease [3,626 B]\n",
            "Get:2 http://security.ubuntu.com/ubuntu bionic-security InRelease [88.7 kB]\n",
            "Ign:3 https://developer.download.nvidia.com/compute/machine-learning/repos/ubuntu1804/x86_64  InRelease\n",
            "Hit:4 https://developer.download.nvidia.com/compute/cuda/repos/ubuntu1804/x86_64  InRelease\n",
            "Hit:5 https://developer.download.nvidia.com/compute/machine-learning/repos/ubuntu1804/x86_64  Release\n",
            "Hit:6 http://archive.ubuntu.com/ubuntu bionic InRelease\n",
            "Hit:7 http://ppa.launchpad.net/c2d4u.team/c2d4u4.0+/ubuntu bionic InRelease\n",
            "Get:8 http://archive.ubuntu.com/ubuntu bionic-updates InRelease [88.7 kB]\n",
            "Hit:10 http://ppa.launchpad.net/cran/libgit2/ubuntu bionic InRelease\n",
            "Get:11 http://archive.ubuntu.com/ubuntu bionic-backports InRelease [83.3 kB]\n",
            "Hit:12 http://ppa.launchpad.net/deadsnakes/ppa/ubuntu bionic InRelease\n",
            "Hit:13 http://ppa.launchpad.net/graphics-drivers/ppa/ubuntu bionic InRelease\n",
            "Fetched 264 kB in 3s (95.8 kB/s)\n",
            "Reading package lists... Done\n",
            "Reading package lists... Done\n",
            "Building dependency tree       \n",
            "Reading state information... Done\n",
            "chromium-chromedriver is already the newest version (105.0.5195.102-0ubuntu0.18.04.1).\n",
            "The following package was automatically installed and is no longer required:\n",
            "  libnvidia-common-460\n",
            "Use 'apt autoremove' to remove it.\n",
            "0 upgraded, 0 newly installed, 0 to remove and 22 not upgraded.\n",
            "cp: '/usr/lib/chromium-browser/chromedriver' and '/usr/bin/chromedriver' are the same file\n"
          ]
        }
      ],
      "source": [
        "!pip install selenium\n",
        "\n",
        "!apt-get update\n",
        "!apt install chromium-chromedriver\n",
        "\n",
        "!cp /usr/lib/chromium-browser/chromedriver /usr/bin\n",
        "\n",
        "import sys\n",
        "sys.path.insert(0, \n",
        "            '/usr/lib/chromium-browser/chromedriver')\n",
        "\n",
        "from selenium import webdriver\n",
        "\n",
        "chrome_options = webdriver.ChromeOptions()\n",
        "chrome_options.add_argument('--headless')\n",
        "chrome_options.add_argument('--no-sandbox')\n",
        "chrome_options.add_argument('--disable-dev-shm-usage')"
      ]
    },
    {
      "cell_type": "code",
      "source": [
        "# Importar biblioteca de regex\n",
        "import re\n",
        "\n",
        "# Importar biblioteca nltk para remoção de stop words\n",
        "import nltk\n",
        "from nltk.corpus import stopwords\n",
        "from nltk.tokenize import word_tokenize\n",
        "\n",
        "# Biblioteca para remoção de caracteres especiais\n",
        "from unicodedata import normalize\n",
        "from string import punctuation"
      ],
      "metadata": {
        "id": "gtIASgMejbBY"
      },
      "execution_count": 312,
      "outputs": []
    },
    {
      "cell_type": "code",
      "source": [
        "nltk.download('stopwords')\n",
        "nltk.download('punkt')"
      ],
      "metadata": {
        "id": "_DDeqangjr52",
        "colab": {
          "base_uri": "https://localhost:8080/"
        },
        "outputId": "a68e7123-52ba-4525-c957-3422a2d0aac5"
      },
      "execution_count": 313,
      "outputs": [
        {
          "output_type": "stream",
          "name": "stderr",
          "text": [
            "[nltk_data] Downloading package stopwords to /root/nltk_data...\n",
            "[nltk_data]   Package stopwords is already up-to-date!\n",
            "[nltk_data] Downloading package punkt to /root/nltk_data...\n",
            "[nltk_data]   Package punkt is already up-to-date!\n"
          ]
        },
        {
          "output_type": "execute_result",
          "data": {
            "text/plain": [
              "True"
            ]
          },
          "metadata": {},
          "execution_count": 313
        }
      ]
    },
    {
      "cell_type": "code",
      "source": [
        "from bs4 import BeautifulSoup as bs\n",
        "import pandas as pd"
      ],
      "metadata": {
        "id": "2vleMwIAEIlJ"
      },
      "execution_count": 314,
      "outputs": []
    },
    {
      "cell_type": "code",
      "source": [
        "browser = webdriver.Chrome('chromedriver', options=chrome_options)"
      ],
      "metadata": {
        "id": "dpiEy5n4EwWT"
      },
      "execution_count": 315,
      "outputs": []
    },
    {
      "cell_type": "code",
      "source": [
        "url = 'https://www.tripadvisor.com.br/Restaurants-g303324-Goiania_State_of_Goias.html'"
      ],
      "metadata": {
        "id": "dS7je_ZJEInP"
      },
      "execution_count": 316,
      "outputs": []
    },
    {
      "cell_type": "code",
      "source": [
        "browser.get(url)"
      ],
      "metadata": {
        "id": "Mjn2B_HMEIpV"
      },
      "execution_count": 317,
      "outputs": []
    },
    {
      "cell_type": "code",
      "source": [
        "b = bs(browser.page_source)"
      ],
      "metadata": {
        "id": "aTyJ2Un9FJVn"
      },
      "execution_count": 318,
      "outputs": []
    },
    {
      "cell_type": "code",
      "source": [
        "rests = b.find('div', attrs={'data-test-target':'restaurants-list'})"
      ],
      "metadata": {
        "id": "UqBPy9T9FWqV"
      },
      "execution_count": 319,
      "outputs": []
    },
    {
      "cell_type": "code",
      "source": [
        "class_alvo = rests.find('div').find('div')['class'][0]"
      ],
      "metadata": {
        "id": "YbWHH_iQFwyY"
      },
      "execution_count": 320,
      "outputs": []
    },
    {
      "cell_type": "code",
      "source": [
        "df = pd.DataFrame(columns=['nome', 'avaliacao', 'descricao'])"
      ],
      "metadata": {
        "id": "O78JjksBLsLZ"
      },
      "execution_count": 321,
      "outputs": []
    },
    {
      "cell_type": "code",
      "source": [
        "linha = 0\n",
        "for rest in rests.find_all('div', attrs={'class':class_alvo}):\n",
        "    titulo = rest.find_all('a')[1].text\n",
        "    avaliacao  = rest.find_all('a')[2].text\n",
        "    desc   = rest.find_all('span')[14].text\n",
        "    \n",
        "    if re.search('\\$', desc):\n",
        "        desc   = rest.find_all('span')[12].text\n",
        "\n",
        "    df.loc[linha] = [titulo, avaliacao, desc]\n",
        "    linha+=1"
      ],
      "metadata": {
        "id": "GJ2MrQcNGznj"
      },
      "execution_count": 322,
      "outputs": []
    },
    {
      "cell_type": "markdown",
      "source": [
        "###tratar coluna nome:remover numeração com regex, \n",
        "###tratar coluna avaliação: remover o nome \"avaliações\", converter para int\n",
        "###tratar coluna descrição: caixa baixa, remover preposições, acentuações, etc\n"
      ],
      "metadata": {
        "id": "2_sT4AGSiN3v"
      }
    },
    {
      "cell_type": "code",
      "source": [
        "stop_words = stopwords.words('portuguese')"
      ],
      "metadata": {
        "id": "hebZ44WwhWCC"
      },
      "execution_count": 323,
      "outputs": []
    },
    {
      "cell_type": "code",
      "source": [
        "def remover_sw(texto):\n",
        "    words_token = word_tokenize(texto)\n",
        "    \n",
        "    # sentenca_limpa = []\n",
        "    # for w in words_token:\n",
        "    #     if not w.lower() in stop_words:\n",
        "    #         sentenca_limpa.append(w)\n",
        "\n",
        "    sentenca_limpa = [w for w in words_token if not w.lower() in stop_words]\n",
        "\n",
        "    return ' '.join(sentenca_limpa)"
      ],
      "metadata": {
        "id": "CGvxARsoL797"
      },
      "execution_count": 324,
      "outputs": []
    },
    {
      "cell_type": "code",
      "source": [
        "def limpar_texto(texto):\n",
        "    # Tratando caracteres especiais\n",
        "    texto = normalize('NFKD', texto). encode('ASCII', 'ignore').decode('ASCII')\n",
        "    # Removendo pontuações\n",
        "    texto = re.sub(f'[{punctuation}]', '', texto)\n",
        "    # Removendo número\n",
        "    texto = re.sub('[0-9]', '', texto)\n",
        "    # Colocar em caixa baixa\n",
        "    texto = texto.lower()\n",
        "    # Removendo stop words\n",
        "    texto = remover_sw(texto)\n",
        "\n",
        "    return texto"
      ],
      "metadata": {
        "id": "XMBla_Vxkhnd"
      },
      "execution_count": 325,
      "outputs": []
    },
    {
      "cell_type": "code",
      "source": [
        "%%time\n",
        "df['descricao'] = df['descricao'].map(limpar_texto)"
      ],
      "metadata": {
        "id": "SV2KLlCElIr9",
        "outputId": "fa5e907f-1fbb-4727-fad7-a52c68fe87cb",
        "colab": {
          "base_uri": "https://localhost:8080/"
        }
      },
      "execution_count": 326,
      "outputs": [
        {
          "output_type": "stream",
          "name": "stdout",
          "text": [
            "CPU times: user 6.64 ms, sys: 0 ns, total: 6.64 ms\n",
            "Wall time: 9.39 ms\n"
          ]
        }
      ]
    },
    {
      "cell_type": "code",
      "source": [
        "df['nome'] = df['nome'].map(lambda n:n.split(\".\")[1])"
      ],
      "metadata": {
        "id": "XWFkJvQUpj2-",
        "colab": {
          "base_uri": "https://localhost:8080/",
          "height": 251
        },
        "outputId": "a6efbb6f-f112-45b7-8fcc-8f0374a830de"
      },
      "execution_count": 346,
      "outputs": [
        {
          "output_type": "error",
          "ename": "IndexError",
          "evalue": "ignored",
          "traceback": [
            "\u001b[0;31m---------------------------------------------------------------------------\u001b[0m",
            "\u001b[0;31mIndexError\u001b[0m                                Traceback (most recent call last)",
            "\u001b[0;32m<ipython-input-346-1c3912775114>\u001b[0m in \u001b[0;36m<module>\u001b[0;34m\u001b[0m\n\u001b[0;32m----> 1\u001b[0;31m \u001b[0mdf\u001b[0m\u001b[0;34m[\u001b[0m\u001b[0;34m'nome'\u001b[0m\u001b[0;34m]\u001b[0m \u001b[0;34m=\u001b[0m \u001b[0mdf\u001b[0m\u001b[0;34m[\u001b[0m\u001b[0;34m'nome'\u001b[0m\u001b[0;34m]\u001b[0m\u001b[0;34m.\u001b[0m\u001b[0mmap\u001b[0m\u001b[0;34m(\u001b[0m\u001b[0;32mlambda\u001b[0m \u001b[0mn\u001b[0m\u001b[0;34m:\u001b[0m\u001b[0mn\u001b[0m\u001b[0;34m.\u001b[0m\u001b[0msplit\u001b[0m\u001b[0;34m(\u001b[0m\u001b[0;34m\".\"\u001b[0m\u001b[0;34m)\u001b[0m\u001b[0;34m[\u001b[0m\u001b[0;36m1\u001b[0m\u001b[0;34m]\u001b[0m\u001b[0;34m)\u001b[0m\u001b[0;34m\u001b[0m\u001b[0;34m\u001b[0m\u001b[0m\n\u001b[0m",
            "\u001b[0;32m/usr/local/lib/python3.7/dist-packages/pandas/core/series.py\u001b[0m in \u001b[0;36mmap\u001b[0;34m(self, arg, na_action)\u001b[0m\n\u001b[1;32m   4159\u001b[0m         \u001b[0mdtype\u001b[0m\u001b[0;34m:\u001b[0m \u001b[0mobject\u001b[0m\u001b[0;34m\u001b[0m\u001b[0;34m\u001b[0m\u001b[0m\n\u001b[1;32m   4160\u001b[0m         \"\"\"\n\u001b[0;32m-> 4161\u001b[0;31m         \u001b[0mnew_values\u001b[0m \u001b[0;34m=\u001b[0m \u001b[0msuper\u001b[0m\u001b[0;34m(\u001b[0m\u001b[0;34m)\u001b[0m\u001b[0;34m.\u001b[0m\u001b[0m_map_values\u001b[0m\u001b[0;34m(\u001b[0m\u001b[0marg\u001b[0m\u001b[0;34m,\u001b[0m \u001b[0mna_action\u001b[0m\u001b[0;34m=\u001b[0m\u001b[0mna_action\u001b[0m\u001b[0;34m)\u001b[0m\u001b[0;34m\u001b[0m\u001b[0;34m\u001b[0m\u001b[0m\n\u001b[0m\u001b[1;32m   4162\u001b[0m         return self._constructor(new_values, index=self.index).__finalize__(\n\u001b[1;32m   4163\u001b[0m             \u001b[0mself\u001b[0m\u001b[0;34m,\u001b[0m \u001b[0mmethod\u001b[0m\u001b[0;34m=\u001b[0m\u001b[0;34m\"map\"\u001b[0m\u001b[0;34m\u001b[0m\u001b[0;34m\u001b[0m\u001b[0m\n",
            "\u001b[0;32m/usr/local/lib/python3.7/dist-packages/pandas/core/base.py\u001b[0m in \u001b[0;36m_map_values\u001b[0;34m(self, mapper, na_action)\u001b[0m\n\u001b[1;32m    868\u001b[0m \u001b[0;34m\u001b[0m\u001b[0m\n\u001b[1;32m    869\u001b[0m         \u001b[0;31m# mapper is a function\u001b[0m\u001b[0;34m\u001b[0m\u001b[0;34m\u001b[0m\u001b[0;34m\u001b[0m\u001b[0m\n\u001b[0;32m--> 870\u001b[0;31m         \u001b[0mnew_values\u001b[0m \u001b[0;34m=\u001b[0m \u001b[0mmap_f\u001b[0m\u001b[0;34m(\u001b[0m\u001b[0mvalues\u001b[0m\u001b[0;34m,\u001b[0m \u001b[0mmapper\u001b[0m\u001b[0;34m)\u001b[0m\u001b[0;34m\u001b[0m\u001b[0;34m\u001b[0m\u001b[0m\n\u001b[0m\u001b[1;32m    871\u001b[0m \u001b[0;34m\u001b[0m\u001b[0m\n\u001b[1;32m    872\u001b[0m         \u001b[0;32mreturn\u001b[0m \u001b[0mnew_values\u001b[0m\u001b[0;34m\u001b[0m\u001b[0;34m\u001b[0m\u001b[0m\n",
            "\u001b[0;32m/usr/local/lib/python3.7/dist-packages/pandas/_libs/lib.pyx\u001b[0m in \u001b[0;36mpandas._libs.lib.map_infer\u001b[0;34m()\u001b[0m\n",
            "\u001b[0;32m<ipython-input-346-1c3912775114>\u001b[0m in \u001b[0;36m<lambda>\u001b[0;34m(n)\u001b[0m\n\u001b[0;32m----> 1\u001b[0;31m \u001b[0mdf\u001b[0m\u001b[0;34m[\u001b[0m\u001b[0;34m'nome'\u001b[0m\u001b[0;34m]\u001b[0m \u001b[0;34m=\u001b[0m \u001b[0mdf\u001b[0m\u001b[0;34m[\u001b[0m\u001b[0;34m'nome'\u001b[0m\u001b[0;34m]\u001b[0m\u001b[0;34m.\u001b[0m\u001b[0mmap\u001b[0m\u001b[0;34m(\u001b[0m\u001b[0;32mlambda\u001b[0m \u001b[0mn\u001b[0m\u001b[0;34m:\u001b[0m\u001b[0mn\u001b[0m\u001b[0;34m.\u001b[0m\u001b[0msplit\u001b[0m\u001b[0;34m(\u001b[0m\u001b[0;34m\".\"\u001b[0m\u001b[0;34m)\u001b[0m\u001b[0;34m[\u001b[0m\u001b[0;36m1\u001b[0m\u001b[0;34m]\u001b[0m\u001b[0;34m)\u001b[0m\u001b[0;34m\u001b[0m\u001b[0;34m\u001b[0m\u001b[0m\n\u001b[0m",
            "\u001b[0;31mIndexError\u001b[0m: list index out of range"
          ]
        }
      ]
    },
    {
      "cell_type": "code",
      "source": [
        "df"
      ],
      "metadata": {
        "colab": {
          "base_uri": "https://localhost:8080/",
          "height": 990
        },
        "id": "FnnccfE8tslv",
        "outputId": "a9e7588e-ea65-469b-d58d-480f0447149f"
      },
      "execution_count": 347,
      "outputs": [
        {
          "output_type": "execute_result",
          "data": {
            "text/plain": [
              "                                         nome avaliacao  \\\n",
              "0                       Coco Bambu Flamboyant      4986   \n",
              "1                       Taji Japanese Cuisine       831   \n",
              "2                                El Argentino       334   \n",
              "3                              Íz Restaurante       872   \n",
              "4                         Restaurante Popular       311   \n",
              "5                           Carne de Sol 1008      2341   \n",
              "6                            Ciao Ciao Cucina       178   \n",
              "7                                      Madero      1140   \n",
              "8                         Pizzaria Pitigliano       722   \n",
              "9    Outback Steakhouse - Shopping Flamboyant      1807   \n",
              "10                   Glória Bar e Restaurante       310   \n",
              "11                              Panela Mágica       208   \n",
              "12                               Celsin & Cia       450   \n",
              "13                     Lifebox Burger Gourmet       514   \n",
              "14                 Madero Flamboyant Shopping       463   \n",
              "15                          Botequim Mercatto      1004   \n",
              "16                                Chão Nativo       441   \n",
              "17                                     Bahrem       420   \n",
              "18                             Casa São Paulo       338   \n",
              "19                                 Porto Cave       189   \n",
              "20                       Churrascaria Gramado       402   \n",
              "21                     Churrascaria DO Walmor       354   \n",
              "22                  Kabanas Restaurante e Bar       537   \n",
              "23                               Bar do Peixe       307   \n",
              "24                                  Obelisque       279   \n",
              "25                           Empório Saccaria       776   \n",
              "26                           Empório Piquiras       993   \n",
              "27                          Tucunaré na Chapa       346   \n",
              "28                           Meze Restaurante       111   \n",
              "29                           Las Nenas Bistrô       204   \n",
              "\n",
              "                      descricao  \n",
              "0         brasileira frutos mar  \n",
              "1             japonesa asiatica  \n",
              "2          steakhouse argentina  \n",
              "3           francesa brasileira  \n",
              "4                    brasileira  \n",
              "5         steakhouse brasileira  \n",
              "6                  italiana bar  \n",
              "7          americana steakhouse  \n",
              "8                italiana pizza  \n",
              "9                steakhouse bar  \n",
              "10               brasileira bar  \n",
              "11     brasileira internacional  \n",
              "12               brasileira bar  \n",
              "13         americana lanchonete  \n",
              "14               steakhouse bar  \n",
              "15        portuguesa brasileira  \n",
              "16                   brasileira  \n",
              "17               brasileira bar  \n",
              "18               italiana pizza  \n",
              "19          europeia portuguesa  \n",
              "20        steakhouse brasileira  \n",
              "21         brasileira churrasco  \n",
              "22      brasileira sulamericana  \n",
              "23        brasileira frutos mar  \n",
              "24          europeia portuguesa  \n",
              "25               brasileira bar  \n",
              "26               brasileira bar  \n",
              "27        brasileira frutos mar  \n",
              "28  internacional contemporanea  \n",
              "29     brasileira contemporanea  "
            ],
            "text/html": [
              "\n",
              "  <div id=\"df-05d68f4f-ff35-4429-809e-6ff56de51d1f\">\n",
              "    <div class=\"colab-df-container\">\n",
              "      <div>\n",
              "<style scoped>\n",
              "    .dataframe tbody tr th:only-of-type {\n",
              "        vertical-align: middle;\n",
              "    }\n",
              "\n",
              "    .dataframe tbody tr th {\n",
              "        vertical-align: top;\n",
              "    }\n",
              "\n",
              "    .dataframe thead th {\n",
              "        text-align: right;\n",
              "    }\n",
              "</style>\n",
              "<table border=\"1\" class=\"dataframe\">\n",
              "  <thead>\n",
              "    <tr style=\"text-align: right;\">\n",
              "      <th></th>\n",
              "      <th>nome</th>\n",
              "      <th>avaliacao</th>\n",
              "      <th>descricao</th>\n",
              "    </tr>\n",
              "  </thead>\n",
              "  <tbody>\n",
              "    <tr>\n",
              "      <th>0</th>\n",
              "      <td>Coco Bambu Flamboyant</td>\n",
              "      <td>4986</td>\n",
              "      <td>brasileira frutos mar</td>\n",
              "    </tr>\n",
              "    <tr>\n",
              "      <th>1</th>\n",
              "      <td>Taji Japanese Cuisine</td>\n",
              "      <td>831</td>\n",
              "      <td>japonesa asiatica</td>\n",
              "    </tr>\n",
              "    <tr>\n",
              "      <th>2</th>\n",
              "      <td>El Argentino</td>\n",
              "      <td>334</td>\n",
              "      <td>steakhouse argentina</td>\n",
              "    </tr>\n",
              "    <tr>\n",
              "      <th>3</th>\n",
              "      <td>Íz Restaurante</td>\n",
              "      <td>872</td>\n",
              "      <td>francesa brasileira</td>\n",
              "    </tr>\n",
              "    <tr>\n",
              "      <th>4</th>\n",
              "      <td>Restaurante Popular</td>\n",
              "      <td>311</td>\n",
              "      <td>brasileira</td>\n",
              "    </tr>\n",
              "    <tr>\n",
              "      <th>5</th>\n",
              "      <td>Carne de Sol 1008</td>\n",
              "      <td>2341</td>\n",
              "      <td>steakhouse brasileira</td>\n",
              "    </tr>\n",
              "    <tr>\n",
              "      <th>6</th>\n",
              "      <td>Ciao Ciao Cucina</td>\n",
              "      <td>178</td>\n",
              "      <td>italiana bar</td>\n",
              "    </tr>\n",
              "    <tr>\n",
              "      <th>7</th>\n",
              "      <td>Madero</td>\n",
              "      <td>1140</td>\n",
              "      <td>americana steakhouse</td>\n",
              "    </tr>\n",
              "    <tr>\n",
              "      <th>8</th>\n",
              "      <td>Pizzaria Pitigliano</td>\n",
              "      <td>722</td>\n",
              "      <td>italiana pizza</td>\n",
              "    </tr>\n",
              "    <tr>\n",
              "      <th>9</th>\n",
              "      <td>Outback Steakhouse - Shopping Flamboyant</td>\n",
              "      <td>1807</td>\n",
              "      <td>steakhouse bar</td>\n",
              "    </tr>\n",
              "    <tr>\n",
              "      <th>10</th>\n",
              "      <td>Glória Bar e Restaurante</td>\n",
              "      <td>310</td>\n",
              "      <td>brasileira bar</td>\n",
              "    </tr>\n",
              "    <tr>\n",
              "      <th>11</th>\n",
              "      <td>Panela Mágica</td>\n",
              "      <td>208</td>\n",
              "      <td>brasileira internacional</td>\n",
              "    </tr>\n",
              "    <tr>\n",
              "      <th>12</th>\n",
              "      <td>Celsin &amp; Cia</td>\n",
              "      <td>450</td>\n",
              "      <td>brasileira bar</td>\n",
              "    </tr>\n",
              "    <tr>\n",
              "      <th>13</th>\n",
              "      <td>Lifebox Burger Gourmet</td>\n",
              "      <td>514</td>\n",
              "      <td>americana lanchonete</td>\n",
              "    </tr>\n",
              "    <tr>\n",
              "      <th>14</th>\n",
              "      <td>Madero Flamboyant Shopping</td>\n",
              "      <td>463</td>\n",
              "      <td>steakhouse bar</td>\n",
              "    </tr>\n",
              "    <tr>\n",
              "      <th>15</th>\n",
              "      <td>Botequim Mercatto</td>\n",
              "      <td>1004</td>\n",
              "      <td>portuguesa brasileira</td>\n",
              "    </tr>\n",
              "    <tr>\n",
              "      <th>16</th>\n",
              "      <td>Chão Nativo</td>\n",
              "      <td>441</td>\n",
              "      <td>brasileira</td>\n",
              "    </tr>\n",
              "    <tr>\n",
              "      <th>17</th>\n",
              "      <td>Bahrem</td>\n",
              "      <td>420</td>\n",
              "      <td>brasileira bar</td>\n",
              "    </tr>\n",
              "    <tr>\n",
              "      <th>18</th>\n",
              "      <td>Casa São Paulo</td>\n",
              "      <td>338</td>\n",
              "      <td>italiana pizza</td>\n",
              "    </tr>\n",
              "    <tr>\n",
              "      <th>19</th>\n",
              "      <td>Porto Cave</td>\n",
              "      <td>189</td>\n",
              "      <td>europeia portuguesa</td>\n",
              "    </tr>\n",
              "    <tr>\n",
              "      <th>20</th>\n",
              "      <td>Churrascaria Gramado</td>\n",
              "      <td>402</td>\n",
              "      <td>steakhouse brasileira</td>\n",
              "    </tr>\n",
              "    <tr>\n",
              "      <th>21</th>\n",
              "      <td>Churrascaria DO Walmor</td>\n",
              "      <td>354</td>\n",
              "      <td>brasileira churrasco</td>\n",
              "    </tr>\n",
              "    <tr>\n",
              "      <th>22</th>\n",
              "      <td>Kabanas Restaurante e Bar</td>\n",
              "      <td>537</td>\n",
              "      <td>brasileira sulamericana</td>\n",
              "    </tr>\n",
              "    <tr>\n",
              "      <th>23</th>\n",
              "      <td>Bar do Peixe</td>\n",
              "      <td>307</td>\n",
              "      <td>brasileira frutos mar</td>\n",
              "    </tr>\n",
              "    <tr>\n",
              "      <th>24</th>\n",
              "      <td>Obelisque</td>\n",
              "      <td>279</td>\n",
              "      <td>europeia portuguesa</td>\n",
              "    </tr>\n",
              "    <tr>\n",
              "      <th>25</th>\n",
              "      <td>Empório Saccaria</td>\n",
              "      <td>776</td>\n",
              "      <td>brasileira bar</td>\n",
              "    </tr>\n",
              "    <tr>\n",
              "      <th>26</th>\n",
              "      <td>Empório Piquiras</td>\n",
              "      <td>993</td>\n",
              "      <td>brasileira bar</td>\n",
              "    </tr>\n",
              "    <tr>\n",
              "      <th>27</th>\n",
              "      <td>Tucunaré na Chapa</td>\n",
              "      <td>346</td>\n",
              "      <td>brasileira frutos mar</td>\n",
              "    </tr>\n",
              "    <tr>\n",
              "      <th>28</th>\n",
              "      <td>Meze Restaurante</td>\n",
              "      <td>111</td>\n",
              "      <td>internacional contemporanea</td>\n",
              "    </tr>\n",
              "    <tr>\n",
              "      <th>29</th>\n",
              "      <td>Las Nenas Bistrô</td>\n",
              "      <td>204</td>\n",
              "      <td>brasileira contemporanea</td>\n",
              "    </tr>\n",
              "  </tbody>\n",
              "</table>\n",
              "</div>\n",
              "      <button class=\"colab-df-convert\" onclick=\"convertToInteractive('df-05d68f4f-ff35-4429-809e-6ff56de51d1f')\"\n",
              "              title=\"Convert this dataframe to an interactive table.\"\n",
              "              style=\"display:none;\">\n",
              "        \n",
              "  <svg xmlns=\"http://www.w3.org/2000/svg\" height=\"24px\"viewBox=\"0 0 24 24\"\n",
              "       width=\"24px\">\n",
              "    <path d=\"M0 0h24v24H0V0z\" fill=\"none\"/>\n",
              "    <path d=\"M18.56 5.44l.94 2.06.94-2.06 2.06-.94-2.06-.94-.94-2.06-.94 2.06-2.06.94zm-11 1L8.5 8.5l.94-2.06 2.06-.94-2.06-.94L8.5 2.5l-.94 2.06-2.06.94zm10 10l.94 2.06.94-2.06 2.06-.94-2.06-.94-.94-2.06-.94 2.06-2.06.94z\"/><path d=\"M17.41 7.96l-1.37-1.37c-.4-.4-.92-.59-1.43-.59-.52 0-1.04.2-1.43.59L10.3 9.45l-7.72 7.72c-.78.78-.78 2.05 0 2.83L4 21.41c.39.39.9.59 1.41.59.51 0 1.02-.2 1.41-.59l7.78-7.78 2.81-2.81c.8-.78.8-2.07 0-2.86zM5.41 20L4 18.59l7.72-7.72 1.47 1.35L5.41 20z\"/>\n",
              "  </svg>\n",
              "      </button>\n",
              "      \n",
              "  <style>\n",
              "    .colab-df-container {\n",
              "      display:flex;\n",
              "      flex-wrap:wrap;\n",
              "      gap: 12px;\n",
              "    }\n",
              "\n",
              "    .colab-df-convert {\n",
              "      background-color: #E8F0FE;\n",
              "      border: none;\n",
              "      border-radius: 50%;\n",
              "      cursor: pointer;\n",
              "      display: none;\n",
              "      fill: #1967D2;\n",
              "      height: 32px;\n",
              "      padding: 0 0 0 0;\n",
              "      width: 32px;\n",
              "    }\n",
              "\n",
              "    .colab-df-convert:hover {\n",
              "      background-color: #E2EBFA;\n",
              "      box-shadow: 0px 1px 2px rgba(60, 64, 67, 0.3), 0px 1px 3px 1px rgba(60, 64, 67, 0.15);\n",
              "      fill: #174EA6;\n",
              "    }\n",
              "\n",
              "    [theme=dark] .colab-df-convert {\n",
              "      background-color: #3B4455;\n",
              "      fill: #D2E3FC;\n",
              "    }\n",
              "\n",
              "    [theme=dark] .colab-df-convert:hover {\n",
              "      background-color: #434B5C;\n",
              "      box-shadow: 0px 1px 3px 1px rgba(0, 0, 0, 0.15);\n",
              "      filter: drop-shadow(0px 1px 2px rgba(0, 0, 0, 0.3));\n",
              "      fill: #FFFFFF;\n",
              "    }\n",
              "  </style>\n",
              "\n",
              "      <script>\n",
              "        const buttonEl =\n",
              "          document.querySelector('#df-05d68f4f-ff35-4429-809e-6ff56de51d1f button.colab-df-convert');\n",
              "        buttonEl.style.display =\n",
              "          google.colab.kernel.accessAllowed ? 'block' : 'none';\n",
              "\n",
              "        async function convertToInteractive(key) {\n",
              "          const element = document.querySelector('#df-05d68f4f-ff35-4429-809e-6ff56de51d1f');\n",
              "          const dataTable =\n",
              "            await google.colab.kernel.invokeFunction('convertToInteractive',\n",
              "                                                     [key], {});\n",
              "          if (!dataTable) return;\n",
              "\n",
              "          const docLinkHtml = 'Like what you see? Visit the ' +\n",
              "            '<a target=\"_blank\" href=https://colab.research.google.com/notebooks/data_table.ipynb>data table notebook</a>'\n",
              "            + ' to learn more about interactive tables.';\n",
              "          element.innerHTML = '';\n",
              "          dataTable['output_type'] = 'display_data';\n",
              "          await google.colab.output.renderOutput(dataTable, element);\n",
              "          const docLink = document.createElement('div');\n",
              "          docLink.innerHTML = docLinkHtml;\n",
              "          element.appendChild(docLink);\n",
              "        }\n",
              "      </script>\n",
              "    </div>\n",
              "  </div>\n",
              "  "
            ]
          },
          "metadata": {},
          "execution_count": 347
        }
      ]
    },
    {
      "cell_type": "code",
      "source": [
        "df['avaliacao'] = df['avaliacao'].map(lambda a:a.replace(' avaliações','').replace('.',''))"
      ],
      "metadata": {
        "id": "wovNodIesMD3"
      },
      "execution_count": 348,
      "outputs": []
    },
    {
      "cell_type": "code",
      "source": [
        "df['avaliacao'].astype(int)"
      ],
      "metadata": {
        "colab": {
          "base_uri": "https://localhost:8080/"
        },
        "id": "Y2OFdm6tt1Zu",
        "outputId": "5694240e-3a23-428c-d65c-3ee5951d61f6"
      },
      "execution_count": 349,
      "outputs": [
        {
          "output_type": "execute_result",
          "data": {
            "text/plain": [
              "0     4986\n",
              "1      831\n",
              "2      334\n",
              "3      872\n",
              "4      311\n",
              "5     2341\n",
              "6      178\n",
              "7     1140\n",
              "8      722\n",
              "9     1807\n",
              "10     310\n",
              "11     208\n",
              "12     450\n",
              "13     514\n",
              "14     463\n",
              "15    1004\n",
              "16     441\n",
              "17     420\n",
              "18     338\n",
              "19     189\n",
              "20     402\n",
              "21     354\n",
              "22     537\n",
              "23     307\n",
              "24     279\n",
              "25     776\n",
              "26     993\n",
              "27     346\n",
              "28     111\n",
              "29     204\n",
              "Name: avaliacao, dtype: int64"
            ]
          },
          "metadata": {},
          "execution_count": 349
        }
      ]
    },
    {
      "cell_type": "markdown",
      "source": [
        "##Aplicação do sistema de recomendação"
      ],
      "metadata": {
        "id": "MJpVYS2mVbHt"
      }
    },
    {
      "cell_type": "code",
      "source": [
        "df['descricao']"
      ],
      "metadata": {
        "id": "cYR2JLlAYw1b",
        "colab": {
          "base_uri": "https://localhost:8080/"
        },
        "outputId": "10449f2d-d3b9-4609-d55a-caf4eb372b0f"
      },
      "execution_count": 350,
      "outputs": [
        {
          "output_type": "execute_result",
          "data": {
            "text/plain": [
              "0           brasileira frutos mar\n",
              "1               japonesa asiatica\n",
              "2            steakhouse argentina\n",
              "3             francesa brasileira\n",
              "4                      brasileira\n",
              "5           steakhouse brasileira\n",
              "6                    italiana bar\n",
              "7            americana steakhouse\n",
              "8                  italiana pizza\n",
              "9                  steakhouse bar\n",
              "10                 brasileira bar\n",
              "11       brasileira internacional\n",
              "12                 brasileira bar\n",
              "13           americana lanchonete\n",
              "14                 steakhouse bar\n",
              "15          portuguesa brasileira\n",
              "16                     brasileira\n",
              "17                 brasileira bar\n",
              "18                 italiana pizza\n",
              "19            europeia portuguesa\n",
              "20          steakhouse brasileira\n",
              "21           brasileira churrasco\n",
              "22        brasileira sulamericana\n",
              "23          brasileira frutos mar\n",
              "24            europeia portuguesa\n",
              "25                 brasileira bar\n",
              "26                 brasileira bar\n",
              "27          brasileira frutos mar\n",
              "28    internacional contemporanea\n",
              "29       brasileira contemporanea\n",
              "Name: descricao, dtype: object"
            ]
          },
          "metadata": {},
          "execution_count": 350
        }
      ]
    },
    {
      "cell_type": "code",
      "source": [
        "tipo_culinaria = df['descricao'].str.split(' ').astype(str)"
      ],
      "metadata": {
        "id": "Pdanmr2UZ-Vk"
      },
      "execution_count": 351,
      "outputs": []
    },
    {
      "cell_type": "code",
      "source": [
        "tipo_culinaria.head(30)"
      ],
      "metadata": {
        "id": "r49HBzDqaa5r"
      },
      "execution_count": null,
      "outputs": []
    },
    {
      "cell_type": "code",
      "source": [
        "#importação de bibliotecas para o procedimento\n",
        "\n",
        "from sklearn.feature_extraction.text import TfidfVectorizer\n",
        "from sklearn.metrics.pairwise import cosine_similarity"
      ],
      "metadata": {
        "id": "n5xwbzdRVjy1"
      },
      "execution_count": 353,
      "outputs": []
    },
    {
      "cell_type": "code",
      "source": [
        "# Criando uma instância do tfidf\n",
        "vectorizer = TfidfVectorizer(analyzer='word',\n",
        "                             ngram_range=(1,3))\n",
        "\n",
        "# Definir os valores da nossa matriz de características\n",
        "vetores = vectorizer.fit_transform(tipo_culinaria)"
      ],
      "metadata": {
        "id": "4YxCSKb_VvdN"
      },
      "execution_count": 354,
      "outputs": []
    },
    {
      "cell_type": "code",
      "source": [
        "# Criar um dataframe com as características (features) e os pesos\n",
        "# associados a estas\n",
        "words_df = pd.DataFrame(vetores.toarray(),\n",
        "                        columns=vectorizer.get_feature_names_out())"
      ],
      "metadata": {
        "id": "mpIG3Ab0docI"
      },
      "execution_count": 355,
      "outputs": []
    },
    {
      "cell_type": "code",
      "source": [
        "cosseno_tipo_culinaria = cosine_similarity(words_df, words_df)\n"
      ],
      "metadata": {
        "id": "MEETLoG7ePzA"
      },
      "execution_count": 356,
      "outputs": []
    },
    {
      "cell_type": "code",
      "source": [
        "#df.shape"
      ],
      "metadata": {
        "id": "kyr0ljKDgeE3"
      },
      "execution_count": 357,
      "outputs": []
    },
    {
      "cell_type": "code",
      "source": [
        "cosseno_tipo_culinaria[0][:]"
      ],
      "metadata": {
        "id": "dgbejd8Kgl9s",
        "colab": {
          "base_uri": "https://localhost:8080/"
        },
        "outputId": "235f76b3-644c-448f-d751-715d220d562e"
      },
      "execution_count": 358,
      "outputs": [
        {
          "output_type": "execute_result",
          "data": {
            "text/plain": [
              "array([1.        , 0.        , 0.        , 0.05787202, 0.21353273,\n",
              "       0.07196533, 0.        , 0.        , 0.        , 0.        ,\n",
              "       0.0843967 , 0.0608332 , 0.0843967 , 0.        , 0.        ,\n",
              "       0.06298539, 0.21353273, 0.0843967 , 0.        , 0.        ,\n",
              "       0.07196533, 0.05787202, 0.05787202, 1.        , 0.        ,\n",
              "       0.0843967 , 0.0843967 , 1.        , 0.        , 0.0608332 ])"
            ]
          },
          "metadata": {},
          "execution_count": 358
        }
      ]
    },
    {
      "cell_type": "code",
      "source": [
        "for i,v in enumerate(cosseno_tipo_culinaria[2]):\n",
        "    if v > 0.4:\n",
        "        print(i, v)"
      ],
      "metadata": {
        "id": "qL1VtoiKirHT",
        "colab": {
          "base_uri": "https://localhost:8080/"
        },
        "outputId": "0f36d0db-6f0c-456b-c684-f99a2a170269"
      },
      "execution_count": 359,
      "outputs": [
        {
          "output_type": "stream",
          "name": "stdout",
          "text": [
            "2 1.0\n"
          ]
        }
      ]
    },
    {
      "cell_type": "code",
      "source": [
        "catalogo_restaurantes = pd.Series(df.index, index=df['nome'].str.strip())"
      ],
      "metadata": {
        "id": "NSmQGtH_sOtI"
      },
      "execution_count": 360,
      "outputs": []
    },
    {
      "cell_type": "code",
      "source": [
        "catalogo_restaurantes.index"
      ],
      "metadata": {
        "colab": {
          "base_uri": "https://localhost:8080/"
        },
        "id": "7w-9gC2EZFTD",
        "outputId": "c7f3cfcc-bf95-4a8a-a758-510c944c63f5"
      },
      "execution_count": 361,
      "outputs": [
        {
          "output_type": "execute_result",
          "data": {
            "text/plain": [
              "Index(['Coco Bambu Flamboyant', 'Taji Japanese Cuisine', 'El Argentino',\n",
              "       'Íz Restaurante', 'Restaurante Popular', 'Carne de Sol 1008',\n",
              "       'Ciao Ciao Cucina', 'Madero', 'Pizzaria Pitigliano',\n",
              "       'Outback Steakhouse - Shopping Flamboyant', 'Glória Bar e Restaurante',\n",
              "       'Panela Mágica', 'Celsin & Cia', 'Lifebox Burger Gourmet',\n",
              "       'Madero Flamboyant Shopping', 'Botequim Mercatto', 'Chão Nativo',\n",
              "       'Bahrem', 'Casa São Paulo', 'Porto Cave', 'Churrascaria Gramado',\n",
              "       'Churrascaria DO Walmor', 'Kabanas Restaurante e Bar', 'Bar do Peixe',\n",
              "       'Obelisque', 'Empório Saccaria', 'Empório Piquiras',\n",
              "       'Tucunaré na Chapa', 'Meze Restaurante', 'Las Nenas Bistrô'],\n",
              "      dtype='object', name='nome')"
            ]
          },
          "metadata": {},
          "execution_count": 361
        }
      ]
    },
    {
      "cell_type": "code",
      "source": [
        "catalogo_restaurantes['Chão Nativo']"
      ],
      "metadata": {
        "colab": {
          "base_uri": "https://localhost:8080/"
        },
        "id": "9UQ8AaBKsfFF",
        "outputId": "38171e3f-7ec5-4f5d-f207-49242b08e135"
      },
      "execution_count": 362,
      "outputs": [
        {
          "output_type": "execute_result",
          "data": {
            "text/plain": [
              "16"
            ]
          },
          "metadata": {},
          "execution_count": 362
        }
      ]
    },
    {
      "cell_type": "code",
      "source": [
        "import string\n",
        "def recomendar_restaurante(nome_restaurante, mat_similaridades):\n",
        "    # Obtendo o índice com base no título informado\n",
        "    idx = catalogo_restaurantes[nome_restaurante] # 'barriga cheia'\n",
        "\n",
        "    # Obter similaridades para o item selecionado\n",
        "    sim = (enumerate(mat_similaridades[idx]))\n",
        "\n",
        "    # Reordenar nossas similaridades em ordem decrescente de recomendação\n",
        "    sim = sorted(sim, key=lambda x:x[1], reverse=True)\n",
        "\n",
        "    # Filtrar os top 10\n",
        "    sim = sim[0:11] \n",
        "\n",
        "    # Obter os índices de restaurantes recomendados\n",
        "    indices_recomendados = [x[0] for x in sim]\n",
        "    recomendados_sim     = [x[1] for x in sim]\n",
        "\n",
        "    return pd.DataFrame({\n",
        "        'Nome do restaurante':df['nome'].iloc[indices_recomendados].values,\n",
        "        'Similaridade':recomendados_sim,\n",
        "        'Avaliação:':df['avaliacao'].iloc[indices_recomendados].values,\n",
        "        'Descricao:':df['descricao'].iloc[indices_recomendados].values,\n",
        "    })"
      ],
      "metadata": {
        "id": "1-ZLC1xqspC8"
      },
      "execution_count": 363,
      "outputs": []
    },
    {
      "cell_type": "code",
      "source": [
        "catalogo_restaurantes"
      ],
      "metadata": {
        "id": "IQ8IgcQ0fM1h"
      },
      "execution_count": null,
      "outputs": []
    },
    {
      "cell_type": "code",
      "source": [
        "from pandas.core.dtypes.cast import astype_array\n",
        "print('#'*5 + 'SISTEMA DE RECOMENDAÇÃO' + '#'*5)\n",
        "\n",
        "for nome,id in catalogo_restaurantes.iteritems():\n",
        "  nome = str.strip(nome)\n",
        "  id = str(id).zfill(3)\n",
        "  print(f'ID:{id} NOME REST: {nome}')\n",
        "rest_escolhido = input('Informe o nome do restaurante desejado: ')\n",
        "\n",
        "recomendar_restaurante(rest_escolhido, cosseno_tipo_culinaria)\n",
        "\n",
        "\n"
      ],
      "metadata": {
        "id": "Fm8_G8zvvEty"
      },
      "execution_count": null,
      "outputs": []
    }
  ]
}