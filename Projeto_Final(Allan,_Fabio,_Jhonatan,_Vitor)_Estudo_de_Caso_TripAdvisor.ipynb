{
  "nbformat": 4,
  "nbformat_minor": 0,
  "metadata": {
    "colab": {
      "provenance": [],
      "collapsed_sections": [],
      "include_colab_link": true
    },
    "kernelspec": {
      "name": "python3",
      "display_name": "Python 3"
    },
    "language_info": {
      "name": "python"
    }
  },
  "cells": [
    {
      "cell_type": "markdown",
      "metadata": {
        "id": "view-in-github",
        "colab_type": "text"
      },
      "source": [
        "<a href=\"https://colab.research.google.com/github/JhonatanPeixoto/JhonatanPeixoto/blob/main/Projeto_Final(Allan%2C_Fabio%2C_Jhonatan%2C_Vitor)_Estudo_de_Caso_TripAdvisor.ipynb\" target=\"_parent\"><img src=\"https://colab.research.google.com/assets/colab-badge.svg\" alt=\"Open In Colab\"/></a>"
      ]
    },
    {
      "cell_type": "code",
      "execution_count": 82,
      "metadata": {
        "id": "_UYOmXFXDsDh",
        "colab": {
          "base_uri": "https://localhost:8080/"
        },
        "outputId": "8dffa72a-9f7a-4f6a-dd54-98701fcba27f"
      },
      "outputs": [
        {
          "output_type": "stream",
          "name": "stdout",
          "text": [
            "Looking in indexes: https://pypi.org/simple, https://us-python.pkg.dev/colab-wheels/public/simple/\n",
            "Requirement already satisfied: selenium in /usr/local/lib/python3.7/dist-packages (4.5.0)\n",
            "Requirement already satisfied: trio~=0.17 in /usr/local/lib/python3.7/dist-packages (from selenium) (0.22.0)\n",
            "Requirement already satisfied: urllib3[socks]~=1.26 in /usr/local/lib/python3.7/dist-packages (from selenium) (1.26.12)\n",
            "Requirement already satisfied: certifi>=2021.10.8 in /usr/local/lib/python3.7/dist-packages (from selenium) (2022.6.15)\n",
            "Requirement already satisfied: trio-websocket~=0.9 in /usr/local/lib/python3.7/dist-packages (from selenium) (0.9.2)\n",
            "Requirement already satisfied: sortedcontainers in /usr/local/lib/python3.7/dist-packages (from trio~=0.17->selenium) (2.4.0)\n",
            "Requirement already satisfied: sniffio in /usr/local/lib/python3.7/dist-packages (from trio~=0.17->selenium) (1.3.0)\n",
            "Requirement already satisfied: exceptiongroup>=1.0.0rc9 in /usr/local/lib/python3.7/dist-packages (from trio~=0.17->selenium) (1.0.0rc9)\n",
            "Requirement already satisfied: async-generator>=1.9 in /usr/local/lib/python3.7/dist-packages (from trio~=0.17->selenium) (1.10)\n",
            "Requirement already satisfied: idna in /usr/local/lib/python3.7/dist-packages (from trio~=0.17->selenium) (2.10)\n",
            "Requirement already satisfied: attrs>=19.2.0 in /usr/local/lib/python3.7/dist-packages (from trio~=0.17->selenium) (22.1.0)\n",
            "Requirement already satisfied: outcome in /usr/local/lib/python3.7/dist-packages (from trio~=0.17->selenium) (1.2.0)\n",
            "Requirement already satisfied: wsproto>=0.14 in /usr/local/lib/python3.7/dist-packages (from trio-websocket~=0.9->selenium) (1.2.0)\n",
            "Requirement already satisfied: PySocks!=1.5.7,<2.0,>=1.5.6 in /usr/local/lib/python3.7/dist-packages (from urllib3[socks]~=1.26->selenium) (1.7.1)\n",
            "Requirement already satisfied: h11<1,>=0.9.0 in /usr/local/lib/python3.7/dist-packages (from wsproto>=0.14->trio-websocket~=0.9->selenium) (0.14.0)\n",
            "Requirement already satisfied: typing-extensions in /usr/local/lib/python3.7/dist-packages (from h11<1,>=0.9.0->wsproto>=0.14->trio-websocket~=0.9->selenium) (4.1.1)\n",
            "Hit:1 http://archive.ubuntu.com/ubuntu bionic InRelease\n",
            "Get:2 http://security.ubuntu.com/ubuntu bionic-security InRelease [88.7 kB]\n",
            "Get:3 http://archive.ubuntu.com/ubuntu bionic-updates InRelease [88.7 kB]\n",
            "Hit:4 https://cloud.r-project.org/bin/linux/ubuntu bionic-cran40/ InRelease\n",
            "Get:5 http://archive.ubuntu.com/ubuntu bionic-backports InRelease [83.3 kB]\n",
            "Ign:6 https://developer.download.nvidia.com/compute/machine-learning/repos/ubuntu1804/x86_64  InRelease\n",
            "Get:7 https://developer.download.nvidia.com/compute/cuda/repos/ubuntu1804/x86_64  InRelease [1,581 B]\n",
            "Hit:8 https://developer.download.nvidia.com/compute/machine-learning/repos/ubuntu1804/x86_64  Release\n",
            "Hit:9 http://ppa.launchpad.net/c2d4u.team/c2d4u4.0+/ubuntu bionic InRelease\n",
            "Hit:10 http://ppa.launchpad.net/cran/libgit2/ubuntu bionic InRelease\n",
            "Hit:11 http://ppa.launchpad.net/deadsnakes/ppa/ubuntu bionic InRelease\n",
            "Hit:12 http://ppa.launchpad.net/graphics-drivers/ppa/ubuntu bionic InRelease\n",
            "Get:13 https://developer.download.nvidia.com/compute/cuda/repos/ubuntu1804/x86_64  Packages [913 kB]\n",
            "Fetched 1,175 kB in 3s (456 kB/s)\n",
            "Reading package lists... Done\n",
            "Reading package lists... Done\n",
            "Building dependency tree       \n",
            "Reading state information... Done\n",
            "chromium-chromedriver is already the newest version (105.0.5195.102-0ubuntu0.18.04.1).\n",
            "The following package was automatically installed and is no longer required:\n",
            "  libnvidia-common-460\n",
            "Use 'apt autoremove' to remove it.\n",
            "0 upgraded, 0 newly installed, 0 to remove and 20 not upgraded.\n",
            "cp: '/usr/lib/chromium-browser/chromedriver' and '/usr/bin/chromedriver' are the same file\n"
          ]
        }
      ],
      "source": [
        "!pip install selenium\n",
        "\n",
        "!apt-get update\n",
        "!apt install chromium-chromedriver\n",
        "\n",
        "!cp /usr/lib/chromium-browser/chromedriver /usr/bin\n",
        "\n",
        "import sys\n",
        "sys.path.insert(0, \n",
        "            '/usr/lib/chromium-browser/chromedriver')\n",
        "\n",
        "from selenium import webdriver\n",
        "\n",
        "chrome_options = webdriver.ChromeOptions()\n",
        "chrome_options.add_argument('--headless')\n",
        "chrome_options.add_argument('--no-sandbox')\n",
        "chrome_options.add_argument('--disable-dev-shm-usage')"
      ]
    },
    {
      "cell_type": "code",
      "source": [
        "# Importar biblioteca de regex\n",
        "import re\n",
        "\n",
        "# Importar biblioteca nltk para remoção de stop words\n",
        "import nltk\n",
        "from nltk.corpus import stopwords\n",
        "from nltk.tokenize import word_tokenize\n",
        "\n",
        "# Biblioteca para remoção de caracteres especiais\n",
        "from unicodedata import normalize\n",
        "from string import punctuation"
      ],
      "metadata": {
        "id": "gtIASgMejbBY"
      },
      "execution_count": 83,
      "outputs": []
    },
    {
      "cell_type": "code",
      "source": [
        "nltk.download('stopwords')\n",
        "nltk.download('punkt')"
      ],
      "metadata": {
        "id": "_DDeqangjr52",
        "colab": {
          "base_uri": "https://localhost:8080/"
        },
        "outputId": "705a0fcb-4316-4f46-b71a-12174639d856"
      },
      "execution_count": 84,
      "outputs": [
        {
          "output_type": "stream",
          "name": "stderr",
          "text": [
            "[nltk_data] Downloading package stopwords to /root/nltk_data...\n",
            "[nltk_data]   Package stopwords is already up-to-date!\n",
            "[nltk_data] Downloading package punkt to /root/nltk_data...\n",
            "[nltk_data]   Package punkt is already up-to-date!\n"
          ]
        },
        {
          "output_type": "execute_result",
          "data": {
            "text/plain": [
              "True"
            ]
          },
          "metadata": {},
          "execution_count": 84
        }
      ]
    },
    {
      "cell_type": "code",
      "source": [
        "from bs4 import BeautifulSoup as bs\n",
        "import pandas as pd"
      ],
      "metadata": {
        "id": "2vleMwIAEIlJ"
      },
      "execution_count": 85,
      "outputs": []
    },
    {
      "cell_type": "code",
      "source": [
        "browser = webdriver.Chrome('chromedriver', options=chrome_options)"
      ],
      "metadata": {
        "id": "dpiEy5n4EwWT"
      },
      "execution_count": 86,
      "outputs": []
    },
    {
      "cell_type": "code",
      "source": [
        "url = 'https://www.tripadvisor.com.br/Restaurants-g303324-Goiania_State_of_Goias.html'"
      ],
      "metadata": {
        "id": "dS7je_ZJEInP"
      },
      "execution_count": 87,
      "outputs": []
    },
    {
      "cell_type": "code",
      "source": [
        "browser.get(url)"
      ],
      "metadata": {
        "id": "Mjn2B_HMEIpV"
      },
      "execution_count": 88,
      "outputs": []
    },
    {
      "cell_type": "code",
      "source": [
        "b = bs(browser.page_source)"
      ],
      "metadata": {
        "id": "aTyJ2Un9FJVn"
      },
      "execution_count": 89,
      "outputs": []
    },
    {
      "cell_type": "code",
      "source": [
        "rests = b.find('div', attrs={'data-test-target':'restaurants-list'})"
      ],
      "metadata": {
        "id": "UqBPy9T9FWqV"
      },
      "execution_count": 90,
      "outputs": []
    },
    {
      "cell_type": "code",
      "source": [
        "class_alvo = rests.find('div').find('div')['class'][0]"
      ],
      "metadata": {
        "id": "YbWHH_iQFwyY"
      },
      "execution_count": 91,
      "outputs": []
    },
    {
      "cell_type": "code",
      "source": [
        "df = pd.DataFrame(columns=['nome', 'avaliacao', 'descricao'])"
      ],
      "metadata": {
        "id": "O78JjksBLsLZ"
      },
      "execution_count": 92,
      "outputs": []
    },
    {
      "cell_type": "code",
      "source": [
        "linha = 0\n",
        "for rest in rests.find_all('div', attrs={'class':class_alvo}):\n",
        "    titulo = rest.find_all('a')[1].text\n",
        "    avaliacao  = rest.find_all('a')[2].text\n",
        "    desc   = rest.find_all('span')[14].text\n",
        "    \n",
        "    if re.search('\\$', desc):\n",
        "        desc   = rest.find_all('span')[12].text\n",
        "\n",
        "    df.loc[linha] = [titulo, avaliacao, desc]\n",
        "    linha+=1"
      ],
      "metadata": {
        "id": "GJ2MrQcNGznj"
      },
      "execution_count": 93,
      "outputs": []
    },
    {
      "cell_type": "markdown",
      "source": [
        "###tratar coluna nome:remover numeração com regex, \n",
        "###tratar coluna avaliação: remover o nome \"avaliações\", converter para int\n",
        "###tratar coluna descrição: caixa baixa, remover preposições, acentuações, etc\n"
      ],
      "metadata": {
        "id": "2_sT4AGSiN3v"
      }
    },
    {
      "cell_type": "code",
      "source": [
        "stop_words = stopwords.words('portuguese')"
      ],
      "metadata": {
        "id": "hebZ44WwhWCC"
      },
      "execution_count": 94,
      "outputs": []
    },
    {
      "cell_type": "code",
      "source": [
        "stop_words"
      ],
      "metadata": {
        "id": "aCFVV4fRk3yt",
        "colab": {
          "base_uri": "https://localhost:8080/"
        },
        "outputId": "d800176f-09c0-433c-d9df-a20e9c10d24a"
      },
      "execution_count": 95,
      "outputs": [
        {
          "output_type": "execute_result",
          "data": {
            "text/plain": [
              "['a',\n",
              " 'à',\n",
              " 'ao',\n",
              " 'aos',\n",
              " 'aquela',\n",
              " 'aquelas',\n",
              " 'aquele',\n",
              " 'aqueles',\n",
              " 'aquilo',\n",
              " 'as',\n",
              " 'às',\n",
              " 'até',\n",
              " 'com',\n",
              " 'como',\n",
              " 'da',\n",
              " 'das',\n",
              " 'de',\n",
              " 'dela',\n",
              " 'delas',\n",
              " 'dele',\n",
              " 'deles',\n",
              " 'depois',\n",
              " 'do',\n",
              " 'dos',\n",
              " 'e',\n",
              " 'é',\n",
              " 'ela',\n",
              " 'elas',\n",
              " 'ele',\n",
              " 'eles',\n",
              " 'em',\n",
              " 'entre',\n",
              " 'era',\n",
              " 'eram',\n",
              " 'éramos',\n",
              " 'essa',\n",
              " 'essas',\n",
              " 'esse',\n",
              " 'esses',\n",
              " 'esta',\n",
              " 'está',\n",
              " 'estamos',\n",
              " 'estão',\n",
              " 'estar',\n",
              " 'estas',\n",
              " 'estava',\n",
              " 'estavam',\n",
              " 'estávamos',\n",
              " 'este',\n",
              " 'esteja',\n",
              " 'estejam',\n",
              " 'estejamos',\n",
              " 'estes',\n",
              " 'esteve',\n",
              " 'estive',\n",
              " 'estivemos',\n",
              " 'estiver',\n",
              " 'estivera',\n",
              " 'estiveram',\n",
              " 'estivéramos',\n",
              " 'estiverem',\n",
              " 'estivermos',\n",
              " 'estivesse',\n",
              " 'estivessem',\n",
              " 'estivéssemos',\n",
              " 'estou',\n",
              " 'eu',\n",
              " 'foi',\n",
              " 'fomos',\n",
              " 'for',\n",
              " 'fora',\n",
              " 'foram',\n",
              " 'fôramos',\n",
              " 'forem',\n",
              " 'formos',\n",
              " 'fosse',\n",
              " 'fossem',\n",
              " 'fôssemos',\n",
              " 'fui',\n",
              " 'há',\n",
              " 'haja',\n",
              " 'hajam',\n",
              " 'hajamos',\n",
              " 'hão',\n",
              " 'havemos',\n",
              " 'haver',\n",
              " 'hei',\n",
              " 'houve',\n",
              " 'houvemos',\n",
              " 'houver',\n",
              " 'houvera',\n",
              " 'houverá',\n",
              " 'houveram',\n",
              " 'houvéramos',\n",
              " 'houverão',\n",
              " 'houverei',\n",
              " 'houverem',\n",
              " 'houveremos',\n",
              " 'houveria',\n",
              " 'houveriam',\n",
              " 'houveríamos',\n",
              " 'houvermos',\n",
              " 'houvesse',\n",
              " 'houvessem',\n",
              " 'houvéssemos',\n",
              " 'isso',\n",
              " 'isto',\n",
              " 'já',\n",
              " 'lhe',\n",
              " 'lhes',\n",
              " 'mais',\n",
              " 'mas',\n",
              " 'me',\n",
              " 'mesmo',\n",
              " 'meu',\n",
              " 'meus',\n",
              " 'minha',\n",
              " 'minhas',\n",
              " 'muito',\n",
              " 'na',\n",
              " 'não',\n",
              " 'nas',\n",
              " 'nem',\n",
              " 'no',\n",
              " 'nos',\n",
              " 'nós',\n",
              " 'nossa',\n",
              " 'nossas',\n",
              " 'nosso',\n",
              " 'nossos',\n",
              " 'num',\n",
              " 'numa',\n",
              " 'o',\n",
              " 'os',\n",
              " 'ou',\n",
              " 'para',\n",
              " 'pela',\n",
              " 'pelas',\n",
              " 'pelo',\n",
              " 'pelos',\n",
              " 'por',\n",
              " 'qual',\n",
              " 'quando',\n",
              " 'que',\n",
              " 'quem',\n",
              " 'são',\n",
              " 'se',\n",
              " 'seja',\n",
              " 'sejam',\n",
              " 'sejamos',\n",
              " 'sem',\n",
              " 'ser',\n",
              " 'será',\n",
              " 'serão',\n",
              " 'serei',\n",
              " 'seremos',\n",
              " 'seria',\n",
              " 'seriam',\n",
              " 'seríamos',\n",
              " 'seu',\n",
              " 'seus',\n",
              " 'só',\n",
              " 'somos',\n",
              " 'sou',\n",
              " 'sua',\n",
              " 'suas',\n",
              " 'também',\n",
              " 'te',\n",
              " 'tem',\n",
              " 'tém',\n",
              " 'temos',\n",
              " 'tenha',\n",
              " 'tenham',\n",
              " 'tenhamos',\n",
              " 'tenho',\n",
              " 'terá',\n",
              " 'terão',\n",
              " 'terei',\n",
              " 'teremos',\n",
              " 'teria',\n",
              " 'teriam',\n",
              " 'teríamos',\n",
              " 'teu',\n",
              " 'teus',\n",
              " 'teve',\n",
              " 'tinha',\n",
              " 'tinham',\n",
              " 'tínhamos',\n",
              " 'tive',\n",
              " 'tivemos',\n",
              " 'tiver',\n",
              " 'tivera',\n",
              " 'tiveram',\n",
              " 'tivéramos',\n",
              " 'tiverem',\n",
              " 'tivermos',\n",
              " 'tivesse',\n",
              " 'tivessem',\n",
              " 'tivéssemos',\n",
              " 'tu',\n",
              " 'tua',\n",
              " 'tuas',\n",
              " 'um',\n",
              " 'uma',\n",
              " 'você',\n",
              " 'vocês',\n",
              " 'vos']"
            ]
          },
          "metadata": {},
          "execution_count": 95
        }
      ]
    },
    {
      "cell_type": "code",
      "source": [
        "def remover_sw(texto):\n",
        "    words_token = word_tokenize(texto)\n",
        "    \n",
        "    # sentenca_limpa = []\n",
        "    # for w in words_token:\n",
        "    #     if not w.lower() in stop_words:\n",
        "    #         sentenca_limpa.append(w)\n",
        "\n",
        "    sentenca_limpa = [w for w in words_token if not w.lower() in stop_words]\n",
        "\n",
        "    return ' '.join(sentenca_limpa)"
      ],
      "metadata": {
        "id": "CGvxARsoL797"
      },
      "execution_count": 96,
      "outputs": []
    },
    {
      "cell_type": "code",
      "source": [
        "def limpar_texto(texto):\n",
        "    # Tratando caracteres especiais\n",
        "    texto = normalize('NFKD', texto). encode('ASCII', 'ignore').decode('ASCII')\n",
        "    # Removendo pontuações\n",
        "    texto = re.sub(f'[{punctuation}]', '', texto)\n",
        "    # Removendo número\n",
        "    texto = re.sub('[0-9]', '', texto)\n",
        "    # Colocar em caixa baixa\n",
        "    texto = texto.lower()\n",
        "    # Removendo stop words\n",
        "    texto = remover_sw(texto)\n",
        "\n",
        "    return texto"
      ],
      "metadata": {
        "id": "XMBla_Vxkhnd"
      },
      "execution_count": 97,
      "outputs": []
    },
    {
      "cell_type": "code",
      "source": [
        "%%time\n",
        "df['descricao'] = df['descricao'].map(limpar_texto)"
      ],
      "metadata": {
        "id": "SV2KLlCElIr9",
        "outputId": "5b8153c8-d96f-458c-b812-4a51479616fa",
        "colab": {
          "base_uri": "https://localhost:8080/"
        }
      },
      "execution_count": 98,
      "outputs": [
        {
          "output_type": "stream",
          "name": "stdout",
          "text": [
            "CPU times: user 6.85 ms, sys: 44 µs, total: 6.89 ms\n",
            "Wall time: 14.5 ms\n"
          ]
        }
      ]
    },
    {
      "cell_type": "code",
      "source": [
        "new = df['nome'].str.split(\".\", n = 1, expand = True)"
      ],
      "metadata": {
        "id": "XWFkJvQUpj2-"
      },
      "execution_count": 116,
      "outputs": []
    },
    {
      "cell_type": "code",
      "source": [
        "new"
      ],
      "metadata": {
        "id": "DNLHMjUzqocV"
      },
      "execution_count": null,
      "outputs": []
    },
    {
      "cell_type": "code",
      "source": [
        "df['nome'] = new[1]"
      ],
      "metadata": {
        "id": "sokJiFX2prYm"
      },
      "execution_count": 118,
      "outputs": []
    },
    {
      "cell_type": "code",
      "source": [
        "df"
      ],
      "metadata": {
        "id": "1MFzgjYXlpp2",
        "outputId": "f0157430-7a0a-46e0-ba11-5d2452c0a30c",
        "colab": {
          "base_uri": "https://localhost:8080/",
          "height": 990
        }
      },
      "execution_count": 119,
      "outputs": [
        {
          "output_type": "execute_result",
          "data": {
            "text/plain": [
              "                                         nome         avaliacao  \\\n",
              "0                       Coco Bambu Flamboyant  4.983 avaliações   \n",
              "1                       Taji Japanese Cuisine    828 avaliações   \n",
              "2                                El Argentino    334 avaliações   \n",
              "3                              Íz Restaurante    872 avaliações   \n",
              "4                         Restaurante Popular    311 avaliações   \n",
              "5                            Ciao Ciao Cucina    178 avaliações   \n",
              "6                           Carne de Sol 1008  2.341 avaliações   \n",
              "7                                      Madero  1.141 avaliações   \n",
              "8                         Pizzaria Pitigliano    721 avaliações   \n",
              "9    Outback Steakhouse - Shopping Flamboyant  1.807 avaliações   \n",
              "10                   Glória Bar e Restaurante    310 avaliações   \n",
              "11                              Panela Mágica    208 avaliações   \n",
              "12                               Celsin & Cia    450 avaliações   \n",
              "13                     Lifebox Burger Gourmet    515 avaliações   \n",
              "14                 Madero Flamboyant Shopping    463 avaliações   \n",
              "15                          Botequim Mercatto  1.006 avaliações   \n",
              "16                                Chão Nativo    441 avaliações   \n",
              "17                                     Bahrem    420 avaliações   \n",
              "18                             Casa São Paulo    339 avaliações   \n",
              "19                                 Porto Cave    189 avaliações   \n",
              "20                       Churrascaria Gramado    402 avaliações   \n",
              "21                     Churrascaria DO Walmor    354 avaliações   \n",
              "22                  Kabanas Restaurante e Bar    539 avaliações   \n",
              "23                               Bar do Peixe    306 avaliações   \n",
              "24                                  Obelisque    279 avaliações   \n",
              "25                           Empório Saccaria    777 avaliações   \n",
              "26                           Empório Piquiras    993 avaliações   \n",
              "27                          Tucunaré na Chapa    346 avaliações   \n",
              "28                           Meze Restaurante    111 avaliações   \n",
              "29                           Las Nenas Bistrô    204 avaliações   \n",
              "\n",
              "                      descricao  \n",
              "0         brasileira frutos mar  \n",
              "1             japonesa asiatica  \n",
              "2          steakhouse argentina  \n",
              "3           francesa brasileira  \n",
              "4                    brasileira  \n",
              "5                  italiana bar  \n",
              "6         steakhouse brasileira  \n",
              "7          americana steakhouse  \n",
              "8                italiana pizza  \n",
              "9                steakhouse bar  \n",
              "10               brasileira bar  \n",
              "11     brasileira internacional  \n",
              "12               brasileira bar  \n",
              "13         americana lanchonete  \n",
              "14               steakhouse bar  \n",
              "15        portuguesa brasileira  \n",
              "16                   brasileira  \n",
              "17               brasileira bar  \n",
              "18               italiana pizza  \n",
              "19          europeia portuguesa  \n",
              "20        steakhouse brasileira  \n",
              "21         brasileira churrasco  \n",
              "22      brasileira sulamericana  \n",
              "23        brasileira frutos mar  \n",
              "24          europeia portuguesa  \n",
              "25               brasileira bar  \n",
              "26               brasileira bar  \n",
              "27        brasileira frutos mar  \n",
              "28  internacional contemporanea  \n",
              "29     brasileira contemporanea  "
            ],
            "text/html": [
              "\n",
              "  <div id=\"df-62f8b58a-67af-4efb-9936-fcd3d0735051\">\n",
              "    <div class=\"colab-df-container\">\n",
              "      <div>\n",
              "<style scoped>\n",
              "    .dataframe tbody tr th:only-of-type {\n",
              "        vertical-align: middle;\n",
              "    }\n",
              "\n",
              "    .dataframe tbody tr th {\n",
              "        vertical-align: top;\n",
              "    }\n",
              "\n",
              "    .dataframe thead th {\n",
              "        text-align: right;\n",
              "    }\n",
              "</style>\n",
              "<table border=\"1\" class=\"dataframe\">\n",
              "  <thead>\n",
              "    <tr style=\"text-align: right;\">\n",
              "      <th></th>\n",
              "      <th>nome</th>\n",
              "      <th>avaliacao</th>\n",
              "      <th>descricao</th>\n",
              "    </tr>\n",
              "  </thead>\n",
              "  <tbody>\n",
              "    <tr>\n",
              "      <th>0</th>\n",
              "      <td>Coco Bambu Flamboyant</td>\n",
              "      <td>4.983 avaliações</td>\n",
              "      <td>brasileira frutos mar</td>\n",
              "    </tr>\n",
              "    <tr>\n",
              "      <th>1</th>\n",
              "      <td>Taji Japanese Cuisine</td>\n",
              "      <td>828 avaliações</td>\n",
              "      <td>japonesa asiatica</td>\n",
              "    </tr>\n",
              "    <tr>\n",
              "      <th>2</th>\n",
              "      <td>El Argentino</td>\n",
              "      <td>334 avaliações</td>\n",
              "      <td>steakhouse argentina</td>\n",
              "    </tr>\n",
              "    <tr>\n",
              "      <th>3</th>\n",
              "      <td>Íz Restaurante</td>\n",
              "      <td>872 avaliações</td>\n",
              "      <td>francesa brasileira</td>\n",
              "    </tr>\n",
              "    <tr>\n",
              "      <th>4</th>\n",
              "      <td>Restaurante Popular</td>\n",
              "      <td>311 avaliações</td>\n",
              "      <td>brasileira</td>\n",
              "    </tr>\n",
              "    <tr>\n",
              "      <th>5</th>\n",
              "      <td>Ciao Ciao Cucina</td>\n",
              "      <td>178 avaliações</td>\n",
              "      <td>italiana bar</td>\n",
              "    </tr>\n",
              "    <tr>\n",
              "      <th>6</th>\n",
              "      <td>Carne de Sol 1008</td>\n",
              "      <td>2.341 avaliações</td>\n",
              "      <td>steakhouse brasileira</td>\n",
              "    </tr>\n",
              "    <tr>\n",
              "      <th>7</th>\n",
              "      <td>Madero</td>\n",
              "      <td>1.141 avaliações</td>\n",
              "      <td>americana steakhouse</td>\n",
              "    </tr>\n",
              "    <tr>\n",
              "      <th>8</th>\n",
              "      <td>Pizzaria Pitigliano</td>\n",
              "      <td>721 avaliações</td>\n",
              "      <td>italiana pizza</td>\n",
              "    </tr>\n",
              "    <tr>\n",
              "      <th>9</th>\n",
              "      <td>Outback Steakhouse - Shopping Flamboyant</td>\n",
              "      <td>1.807 avaliações</td>\n",
              "      <td>steakhouse bar</td>\n",
              "    </tr>\n",
              "    <tr>\n",
              "      <th>10</th>\n",
              "      <td>Glória Bar e Restaurante</td>\n",
              "      <td>310 avaliações</td>\n",
              "      <td>brasileira bar</td>\n",
              "    </tr>\n",
              "    <tr>\n",
              "      <th>11</th>\n",
              "      <td>Panela Mágica</td>\n",
              "      <td>208 avaliações</td>\n",
              "      <td>brasileira internacional</td>\n",
              "    </tr>\n",
              "    <tr>\n",
              "      <th>12</th>\n",
              "      <td>Celsin &amp; Cia</td>\n",
              "      <td>450 avaliações</td>\n",
              "      <td>brasileira bar</td>\n",
              "    </tr>\n",
              "    <tr>\n",
              "      <th>13</th>\n",
              "      <td>Lifebox Burger Gourmet</td>\n",
              "      <td>515 avaliações</td>\n",
              "      <td>americana lanchonete</td>\n",
              "    </tr>\n",
              "    <tr>\n",
              "      <th>14</th>\n",
              "      <td>Madero Flamboyant Shopping</td>\n",
              "      <td>463 avaliações</td>\n",
              "      <td>steakhouse bar</td>\n",
              "    </tr>\n",
              "    <tr>\n",
              "      <th>15</th>\n",
              "      <td>Botequim Mercatto</td>\n",
              "      <td>1.006 avaliações</td>\n",
              "      <td>portuguesa brasileira</td>\n",
              "    </tr>\n",
              "    <tr>\n",
              "      <th>16</th>\n",
              "      <td>Chão Nativo</td>\n",
              "      <td>441 avaliações</td>\n",
              "      <td>brasileira</td>\n",
              "    </tr>\n",
              "    <tr>\n",
              "      <th>17</th>\n",
              "      <td>Bahrem</td>\n",
              "      <td>420 avaliações</td>\n",
              "      <td>brasileira bar</td>\n",
              "    </tr>\n",
              "    <tr>\n",
              "      <th>18</th>\n",
              "      <td>Casa São Paulo</td>\n",
              "      <td>339 avaliações</td>\n",
              "      <td>italiana pizza</td>\n",
              "    </tr>\n",
              "    <tr>\n",
              "      <th>19</th>\n",
              "      <td>Porto Cave</td>\n",
              "      <td>189 avaliações</td>\n",
              "      <td>europeia portuguesa</td>\n",
              "    </tr>\n",
              "    <tr>\n",
              "      <th>20</th>\n",
              "      <td>Churrascaria Gramado</td>\n",
              "      <td>402 avaliações</td>\n",
              "      <td>steakhouse brasileira</td>\n",
              "    </tr>\n",
              "    <tr>\n",
              "      <th>21</th>\n",
              "      <td>Churrascaria DO Walmor</td>\n",
              "      <td>354 avaliações</td>\n",
              "      <td>brasileira churrasco</td>\n",
              "    </tr>\n",
              "    <tr>\n",
              "      <th>22</th>\n",
              "      <td>Kabanas Restaurante e Bar</td>\n",
              "      <td>539 avaliações</td>\n",
              "      <td>brasileira sulamericana</td>\n",
              "    </tr>\n",
              "    <tr>\n",
              "      <th>23</th>\n",
              "      <td>Bar do Peixe</td>\n",
              "      <td>306 avaliações</td>\n",
              "      <td>brasileira frutos mar</td>\n",
              "    </tr>\n",
              "    <tr>\n",
              "      <th>24</th>\n",
              "      <td>Obelisque</td>\n",
              "      <td>279 avaliações</td>\n",
              "      <td>europeia portuguesa</td>\n",
              "    </tr>\n",
              "    <tr>\n",
              "      <th>25</th>\n",
              "      <td>Empório Saccaria</td>\n",
              "      <td>777 avaliações</td>\n",
              "      <td>brasileira bar</td>\n",
              "    </tr>\n",
              "    <tr>\n",
              "      <th>26</th>\n",
              "      <td>Empório Piquiras</td>\n",
              "      <td>993 avaliações</td>\n",
              "      <td>brasileira bar</td>\n",
              "    </tr>\n",
              "    <tr>\n",
              "      <th>27</th>\n",
              "      <td>Tucunaré na Chapa</td>\n",
              "      <td>346 avaliações</td>\n",
              "      <td>brasileira frutos mar</td>\n",
              "    </tr>\n",
              "    <tr>\n",
              "      <th>28</th>\n",
              "      <td>Meze Restaurante</td>\n",
              "      <td>111 avaliações</td>\n",
              "      <td>internacional contemporanea</td>\n",
              "    </tr>\n",
              "    <tr>\n",
              "      <th>29</th>\n",
              "      <td>Las Nenas Bistrô</td>\n",
              "      <td>204 avaliações</td>\n",
              "      <td>brasileira contemporanea</td>\n",
              "    </tr>\n",
              "  </tbody>\n",
              "</table>\n",
              "</div>\n",
              "      <button class=\"colab-df-convert\" onclick=\"convertToInteractive('df-62f8b58a-67af-4efb-9936-fcd3d0735051')\"\n",
              "              title=\"Convert this dataframe to an interactive table.\"\n",
              "              style=\"display:none;\">\n",
              "        \n",
              "  <svg xmlns=\"http://www.w3.org/2000/svg\" height=\"24px\"viewBox=\"0 0 24 24\"\n",
              "       width=\"24px\">\n",
              "    <path d=\"M0 0h24v24H0V0z\" fill=\"none\"/>\n",
              "    <path d=\"M18.56 5.44l.94 2.06.94-2.06 2.06-.94-2.06-.94-.94-2.06-.94 2.06-2.06.94zm-11 1L8.5 8.5l.94-2.06 2.06-.94-2.06-.94L8.5 2.5l-.94 2.06-2.06.94zm10 10l.94 2.06.94-2.06 2.06-.94-2.06-.94-.94-2.06-.94 2.06-2.06.94z\"/><path d=\"M17.41 7.96l-1.37-1.37c-.4-.4-.92-.59-1.43-.59-.52 0-1.04.2-1.43.59L10.3 9.45l-7.72 7.72c-.78.78-.78 2.05 0 2.83L4 21.41c.39.39.9.59 1.41.59.51 0 1.02-.2 1.41-.59l7.78-7.78 2.81-2.81c.8-.78.8-2.07 0-2.86zM5.41 20L4 18.59l7.72-7.72 1.47 1.35L5.41 20z\"/>\n",
              "  </svg>\n",
              "      </button>\n",
              "      \n",
              "  <style>\n",
              "    .colab-df-container {\n",
              "      display:flex;\n",
              "      flex-wrap:wrap;\n",
              "      gap: 12px;\n",
              "    }\n",
              "\n",
              "    .colab-df-convert {\n",
              "      background-color: #E8F0FE;\n",
              "      border: none;\n",
              "      border-radius: 50%;\n",
              "      cursor: pointer;\n",
              "      display: none;\n",
              "      fill: #1967D2;\n",
              "      height: 32px;\n",
              "      padding: 0 0 0 0;\n",
              "      width: 32px;\n",
              "    }\n",
              "\n",
              "    .colab-df-convert:hover {\n",
              "      background-color: #E2EBFA;\n",
              "      box-shadow: 0px 1px 2px rgba(60, 64, 67, 0.3), 0px 1px 3px 1px rgba(60, 64, 67, 0.15);\n",
              "      fill: #174EA6;\n",
              "    }\n",
              "\n",
              "    [theme=dark] .colab-df-convert {\n",
              "      background-color: #3B4455;\n",
              "      fill: #D2E3FC;\n",
              "    }\n",
              "\n",
              "    [theme=dark] .colab-df-convert:hover {\n",
              "      background-color: #434B5C;\n",
              "      box-shadow: 0px 1px 3px 1px rgba(0, 0, 0, 0.15);\n",
              "      filter: drop-shadow(0px 1px 2px rgba(0, 0, 0, 0.3));\n",
              "      fill: #FFFFFF;\n",
              "    }\n",
              "  </style>\n",
              "\n",
              "      <script>\n",
              "        const buttonEl =\n",
              "          document.querySelector('#df-62f8b58a-67af-4efb-9936-fcd3d0735051 button.colab-df-convert');\n",
              "        buttonEl.style.display =\n",
              "          google.colab.kernel.accessAllowed ? 'block' : 'none';\n",
              "\n",
              "        async function convertToInteractive(key) {\n",
              "          const element = document.querySelector('#df-62f8b58a-67af-4efb-9936-fcd3d0735051');\n",
              "          const dataTable =\n",
              "            await google.colab.kernel.invokeFunction('convertToInteractive',\n",
              "                                                     [key], {});\n",
              "          if (!dataTable) return;\n",
              "\n",
              "          const docLinkHtml = 'Like what you see? Visit the ' +\n",
              "            '<a target=\"_blank\" href=https://colab.research.google.com/notebooks/data_table.ipynb>data table notebook</a>'\n",
              "            + ' to learn more about interactive tables.';\n",
              "          element.innerHTML = '';\n",
              "          dataTable['output_type'] = 'display_data';\n",
              "          await google.colab.output.renderOutput(dataTable, element);\n",
              "          const docLink = document.createElement('div');\n",
              "          docLink.innerHTML = docLinkHtml;\n",
              "          element.appendChild(docLink);\n",
              "        }\n",
              "      </script>\n",
              "    </div>\n",
              "  </div>\n",
              "  "
            ]
          },
          "metadata": {},
          "execution_count": 119
        }
      ]
    },
    {
      "cell_type": "markdown",
      "source": [
        "##Aplicação do sistema de recomendação"
      ],
      "metadata": {
        "id": "MJpVYS2mVbHt"
      }
    },
    {
      "cell_type": "code",
      "source": [
        "df['descricao']"
      ],
      "metadata": {
        "id": "cYR2JLlAYw1b"
      },
      "execution_count": null,
      "outputs": []
    },
    {
      "cell_type": "code",
      "source": [
        "tipo_culinaria = df['descricao'].str.split(' ').astype(str)"
      ],
      "metadata": {
        "id": "Pdanmr2UZ-Vk"
      },
      "execution_count": 101,
      "outputs": []
    },
    {
      "cell_type": "code",
      "source": [
        "tipo_culinaria.head(30)"
      ],
      "metadata": {
        "id": "r49HBzDqaa5r"
      },
      "execution_count": null,
      "outputs": []
    },
    {
      "cell_type": "code",
      "source": [
        "#importação de bibliotecas para o procedimento\n",
        "\n",
        "from sklearn.feature_extraction.text import TfidfVectorizer\n",
        "from sklearn.metrics.pairwise import cosine_similarity"
      ],
      "metadata": {
        "id": "n5xwbzdRVjy1"
      },
      "execution_count": 103,
      "outputs": []
    },
    {
      "cell_type": "code",
      "source": [
        "# Criando uma instância do tfidf\n",
        "vectorizer = TfidfVectorizer(analyzer='word',\n",
        "                             ngram_range=(1,3))\n",
        "\n",
        "# Definir os valores da nossa matriz de características\n",
        "vetores = vectorizer.fit_transform(tipo_culinaria)"
      ],
      "metadata": {
        "id": "4YxCSKb_VvdN"
      },
      "execution_count": 104,
      "outputs": []
    },
    {
      "cell_type": "code",
      "source": [
        "# Criar um dataframe com as características (features) e os pesos\n",
        "# associados a estas\n",
        "words_df = pd.DataFrame(vetores.toarray(),\n",
        "                        columns=vectorizer.get_feature_names_out())"
      ],
      "metadata": {
        "id": "mpIG3Ab0docI"
      },
      "execution_count": 105,
      "outputs": []
    },
    {
      "cell_type": "code",
      "source": [
        "cosseno_tipo_culinaria = cosine_similarity(words_df, words_df)\n"
      ],
      "metadata": {
        "id": "MEETLoG7ePzA"
      },
      "execution_count": 106,
      "outputs": []
    },
    {
      "cell_type": "code",
      "source": [
        "df.shape\n"
      ],
      "metadata": {
        "colab": {
          "base_uri": "https://localhost:8080/"
        },
        "id": "kyr0ljKDgeE3",
        "outputId": "75f1090b-7fe8-4014-e770-1fcb0b0fc69c"
      },
      "execution_count": 107,
      "outputs": [
        {
          "output_type": "execute_result",
          "data": {
            "text/plain": [
              "(30, 3)"
            ]
          },
          "metadata": {},
          "execution_count": 107
        }
      ]
    },
    {
      "cell_type": "code",
      "source": [
        "cosseno_tipo_culinaria[0][:]"
      ],
      "metadata": {
        "id": "dgbejd8Kgl9s"
      },
      "execution_count": null,
      "outputs": []
    },
    {
      "cell_type": "code",
      "source": [
        "for i,v in enumerate(cosseno_tipo_culinaria[2]):\n",
        "    if v > 0.4:\n",
        "        print(i, v)"
      ],
      "metadata": {
        "id": "qL1VtoiKirHT"
      },
      "execution_count": null,
      "outputs": []
    },
    {
      "cell_type": "code",
      "source": [
        "catalogo_restaurantes = pd.Series(df.index, index=df['nome'])"
      ],
      "metadata": {
        "id": "NSmQGtH_sOtI"
      },
      "execution_count": 121,
      "outputs": []
    },
    {
      "cell_type": "code",
      "source": [],
      "metadata": {
        "colab": {
          "base_uri": "https://localhost:8080/"
        },
        "id": "9UQ8AaBKsfFF",
        "outputId": "950f5433-819e-4280-f9c7-4ca476e1c657"
      },
      "execution_count": 133,
      "outputs": [
        {
          "output_type": "execute_result",
          "data": {
            "text/plain": [
              "nome\n",
              " Coco Bambu Flamboyant                        0\n",
              " Taji Japanese Cuisine                        1\n",
              " El Argentino                                 2\n",
              " Íz Restaurante                               3\n",
              " Restaurante Popular                          4\n",
              " Ciao Ciao Cucina                             5\n",
              " Carne de Sol 1008                            6\n",
              " Madero                                       7\n",
              " Pizzaria Pitigliano                          8\n",
              " Outback Steakhouse - Shopping Flamboyant     9\n",
              " Glória Bar e Restaurante                    10\n",
              " Panela Mágica                               11\n",
              " Celsin & Cia                                12\n",
              " Lifebox Burger Gourmet                      13\n",
              " Madero Flamboyant Shopping                  14\n",
              " Botequim Mercatto                           15\n",
              " Chão Nativo                                 16\n",
              " Bahrem                                      17\n",
              " Casa São Paulo                              18\n",
              " Porto Cave                                  19\n",
              " Churrascaria Gramado                        20\n",
              " Churrascaria DO Walmor                      21\n",
              " Kabanas Restaurante e Bar                   22\n",
              " Bar do Peixe                                23\n",
              " Obelisque                                   24\n",
              " Empório Saccaria                            25\n",
              " Empório Piquiras                            26\n",
              " Tucunaré na Chapa                           27\n",
              " Meze Restaurante                            28\n",
              " Las Nenas Bistrô                            29\n",
              "dtype: int64"
            ]
          },
          "metadata": {},
          "execution_count": 133
        }
      ]
    },
    {
      "cell_type": "code",
      "source": [
        "import string\n",
        "def recomendar_restaurante(nome_restaurante, mat_similaridades):\n",
        "    # Obtendo o índice com base no título informado\n",
        "    idx = catalogo_restaurantes[nome_restaurante] # 'barriga cheia'\n",
        "\n",
        "    # Obter similaridades para o item selecionado\n",
        "    sim = (enumerate(mat_similaridades[idx]))\n",
        "\n",
        "    # Reordenar nossas similaridades em ordem decrescente de recomendação\n",
        "    sim = sorted(sim, key=lambda x:x[1], reverse=True)\n",
        "\n",
        "    # Filtrar os top 10\n",
        "    sim = sim[0:11] \n",
        "\n",
        "    # Obter os índices de restaurantes recomendados\n",
        "    indices_recomendados = [x[0] for x in sim]\n",
        "    recomendados_sim     = [x[1] for x in sim]\n",
        "\n",
        "    return pd.DataFrame({\n",
        "        'Nome do restaurante':df['nome'].iloc[indices_recomendados].values,\n",
        "        'Similaridade':recomendados_sim,\n",
        "        'Avaliação:':df['avaliacao'].iloc[indices_recomendados].values,\n",
        "        'Descricao:':df['descricao'].iloc[indices_recomendados].values,\n",
        "    })"
      ],
      "metadata": {
        "id": "1-ZLC1xqspC8"
      },
      "execution_count": 126,
      "outputs": []
    },
    {
      "cell_type": "code",
      "source": [
        "recomendar_restaurante(27, cosseno_tipo_culinaria)\n",
        "\n"
      ],
      "metadata": {
        "colab": {
          "base_uri": "https://localhost:8080/",
          "height": 394
        },
        "id": "Fm8_G8zvvEty",
        "outputId": "d3af6e3e-9fd2-42bb-9ded-21b7adb7fbcd"
      },
      "execution_count": 137,
      "outputs": [
        {
          "output_type": "execute_result",
          "data": {
            "text/plain": [
              "          Nome do restaurante  Similaridade        Avaliação:  \\\n",
              "0       Coco Bambu Flamboyant      1.000000  4.983 avaliações   \n",
              "1                Bar do Peixe      1.000000    306 avaliações   \n",
              "2           Tucunaré na Chapa      1.000000    346 avaliações   \n",
              "3         Restaurante Popular      0.213533    311 avaliações   \n",
              "4                 Chão Nativo      0.213533    441 avaliações   \n",
              "5    Glória Bar e Restaurante      0.084397    310 avaliações   \n",
              "6                Celsin & Cia      0.084397    450 avaliações   \n",
              "7                      Bahrem      0.084397    420 avaliações   \n",
              "8            Empório Saccaria      0.084397    777 avaliações   \n",
              "9            Empório Piquiras      0.084397    993 avaliações   \n",
              "10          Carne de Sol 1008      0.071965  2.341 avaliações   \n",
              "\n",
              "               Descricao:  \n",
              "0   brasileira frutos mar  \n",
              "1   brasileira frutos mar  \n",
              "2   brasileira frutos mar  \n",
              "3              brasileira  \n",
              "4              brasileira  \n",
              "5          brasileira bar  \n",
              "6          brasileira bar  \n",
              "7          brasileira bar  \n",
              "8          brasileira bar  \n",
              "9          brasileira bar  \n",
              "10  steakhouse brasileira  "
            ],
            "text/html": [
              "\n",
              "  <div id=\"df-e1fed949-f65c-4345-a99d-d5292c2e47d2\">\n",
              "    <div class=\"colab-df-container\">\n",
              "      <div>\n",
              "<style scoped>\n",
              "    .dataframe tbody tr th:only-of-type {\n",
              "        vertical-align: middle;\n",
              "    }\n",
              "\n",
              "    .dataframe tbody tr th {\n",
              "        vertical-align: top;\n",
              "    }\n",
              "\n",
              "    .dataframe thead th {\n",
              "        text-align: right;\n",
              "    }\n",
              "</style>\n",
              "<table border=\"1\" class=\"dataframe\">\n",
              "  <thead>\n",
              "    <tr style=\"text-align: right;\">\n",
              "      <th></th>\n",
              "      <th>Nome do restaurante</th>\n",
              "      <th>Similaridade</th>\n",
              "      <th>Avaliação:</th>\n",
              "      <th>Descricao:</th>\n",
              "    </tr>\n",
              "  </thead>\n",
              "  <tbody>\n",
              "    <tr>\n",
              "      <th>0</th>\n",
              "      <td>Coco Bambu Flamboyant</td>\n",
              "      <td>1.000000</td>\n",
              "      <td>4.983 avaliações</td>\n",
              "      <td>brasileira frutos mar</td>\n",
              "    </tr>\n",
              "    <tr>\n",
              "      <th>1</th>\n",
              "      <td>Bar do Peixe</td>\n",
              "      <td>1.000000</td>\n",
              "      <td>306 avaliações</td>\n",
              "      <td>brasileira frutos mar</td>\n",
              "    </tr>\n",
              "    <tr>\n",
              "      <th>2</th>\n",
              "      <td>Tucunaré na Chapa</td>\n",
              "      <td>1.000000</td>\n",
              "      <td>346 avaliações</td>\n",
              "      <td>brasileira frutos mar</td>\n",
              "    </tr>\n",
              "    <tr>\n",
              "      <th>3</th>\n",
              "      <td>Restaurante Popular</td>\n",
              "      <td>0.213533</td>\n",
              "      <td>311 avaliações</td>\n",
              "      <td>brasileira</td>\n",
              "    </tr>\n",
              "    <tr>\n",
              "      <th>4</th>\n",
              "      <td>Chão Nativo</td>\n",
              "      <td>0.213533</td>\n",
              "      <td>441 avaliações</td>\n",
              "      <td>brasileira</td>\n",
              "    </tr>\n",
              "    <tr>\n",
              "      <th>5</th>\n",
              "      <td>Glória Bar e Restaurante</td>\n",
              "      <td>0.084397</td>\n",
              "      <td>310 avaliações</td>\n",
              "      <td>brasileira bar</td>\n",
              "    </tr>\n",
              "    <tr>\n",
              "      <th>6</th>\n",
              "      <td>Celsin &amp; Cia</td>\n",
              "      <td>0.084397</td>\n",
              "      <td>450 avaliações</td>\n",
              "      <td>brasileira bar</td>\n",
              "    </tr>\n",
              "    <tr>\n",
              "      <th>7</th>\n",
              "      <td>Bahrem</td>\n",
              "      <td>0.084397</td>\n",
              "      <td>420 avaliações</td>\n",
              "      <td>brasileira bar</td>\n",
              "    </tr>\n",
              "    <tr>\n",
              "      <th>8</th>\n",
              "      <td>Empório Saccaria</td>\n",
              "      <td>0.084397</td>\n",
              "      <td>777 avaliações</td>\n",
              "      <td>brasileira bar</td>\n",
              "    </tr>\n",
              "    <tr>\n",
              "      <th>9</th>\n",
              "      <td>Empório Piquiras</td>\n",
              "      <td>0.084397</td>\n",
              "      <td>993 avaliações</td>\n",
              "      <td>brasileira bar</td>\n",
              "    </tr>\n",
              "    <tr>\n",
              "      <th>10</th>\n",
              "      <td>Carne de Sol 1008</td>\n",
              "      <td>0.071965</td>\n",
              "      <td>2.341 avaliações</td>\n",
              "      <td>steakhouse brasileira</td>\n",
              "    </tr>\n",
              "  </tbody>\n",
              "</table>\n",
              "</div>\n",
              "      <button class=\"colab-df-convert\" onclick=\"convertToInteractive('df-e1fed949-f65c-4345-a99d-d5292c2e47d2')\"\n",
              "              title=\"Convert this dataframe to an interactive table.\"\n",
              "              style=\"display:none;\">\n",
              "        \n",
              "  <svg xmlns=\"http://www.w3.org/2000/svg\" height=\"24px\"viewBox=\"0 0 24 24\"\n",
              "       width=\"24px\">\n",
              "    <path d=\"M0 0h24v24H0V0z\" fill=\"none\"/>\n",
              "    <path d=\"M18.56 5.44l.94 2.06.94-2.06 2.06-.94-2.06-.94-.94-2.06-.94 2.06-2.06.94zm-11 1L8.5 8.5l.94-2.06 2.06-.94-2.06-.94L8.5 2.5l-.94 2.06-2.06.94zm10 10l.94 2.06.94-2.06 2.06-.94-2.06-.94-.94-2.06-.94 2.06-2.06.94z\"/><path d=\"M17.41 7.96l-1.37-1.37c-.4-.4-.92-.59-1.43-.59-.52 0-1.04.2-1.43.59L10.3 9.45l-7.72 7.72c-.78.78-.78 2.05 0 2.83L4 21.41c.39.39.9.59 1.41.59.51 0 1.02-.2 1.41-.59l7.78-7.78 2.81-2.81c.8-.78.8-2.07 0-2.86zM5.41 20L4 18.59l7.72-7.72 1.47 1.35L5.41 20z\"/>\n",
              "  </svg>\n",
              "      </button>\n",
              "      \n",
              "  <style>\n",
              "    .colab-df-container {\n",
              "      display:flex;\n",
              "      flex-wrap:wrap;\n",
              "      gap: 12px;\n",
              "    }\n",
              "\n",
              "    .colab-df-convert {\n",
              "      background-color: #E8F0FE;\n",
              "      border: none;\n",
              "      border-radius: 50%;\n",
              "      cursor: pointer;\n",
              "      display: none;\n",
              "      fill: #1967D2;\n",
              "      height: 32px;\n",
              "      padding: 0 0 0 0;\n",
              "      width: 32px;\n",
              "    }\n",
              "\n",
              "    .colab-df-convert:hover {\n",
              "      background-color: #E2EBFA;\n",
              "      box-shadow: 0px 1px 2px rgba(60, 64, 67, 0.3), 0px 1px 3px 1px rgba(60, 64, 67, 0.15);\n",
              "      fill: #174EA6;\n",
              "    }\n",
              "\n",
              "    [theme=dark] .colab-df-convert {\n",
              "      background-color: #3B4455;\n",
              "      fill: #D2E3FC;\n",
              "    }\n",
              "\n",
              "    [theme=dark] .colab-df-convert:hover {\n",
              "      background-color: #434B5C;\n",
              "      box-shadow: 0px 1px 3px 1px rgba(0, 0, 0, 0.15);\n",
              "      filter: drop-shadow(0px 1px 2px rgba(0, 0, 0, 0.3));\n",
              "      fill: #FFFFFF;\n",
              "    }\n",
              "  </style>\n",
              "\n",
              "      <script>\n",
              "        const buttonEl =\n",
              "          document.querySelector('#df-e1fed949-f65c-4345-a99d-d5292c2e47d2 button.colab-df-convert');\n",
              "        buttonEl.style.display =\n",
              "          google.colab.kernel.accessAllowed ? 'block' : 'none';\n",
              "\n",
              "        async function convertToInteractive(key) {\n",
              "          const element = document.querySelector('#df-e1fed949-f65c-4345-a99d-d5292c2e47d2');\n",
              "          const dataTable =\n",
              "            await google.colab.kernel.invokeFunction('convertToInteractive',\n",
              "                                                     [key], {});\n",
              "          if (!dataTable) return;\n",
              "\n",
              "          const docLinkHtml = 'Like what you see? Visit the ' +\n",
              "            '<a target=\"_blank\" href=https://colab.research.google.com/notebooks/data_table.ipynb>data table notebook</a>'\n",
              "            + ' to learn more about interactive tables.';\n",
              "          element.innerHTML = '';\n",
              "          dataTable['output_type'] = 'display_data';\n",
              "          await google.colab.output.renderOutput(dataTable, element);\n",
              "          const docLink = document.createElement('div');\n",
              "          docLink.innerHTML = docLinkHtml;\n",
              "          element.appendChild(docLink);\n",
              "        }\n",
              "      </script>\n",
              "    </div>\n",
              "  </div>\n",
              "  "
            ]
          },
          "metadata": {},
          "execution_count": 137
        }
      ]
    }
  ]
}