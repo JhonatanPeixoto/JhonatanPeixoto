{
  "nbformat": 4,
  "nbformat_minor": 0,
  "metadata": {
    "colab": {
      "provenance": [],
      "include_colab_link": true
    },
    "kernelspec": {
      "name": "python3",
      "display_name": "Python 3"
    },
    "language_info": {
      "name": "python"
    }
  },
  "cells": [
    {
      "cell_type": "markdown",
      "metadata": {
        "id": "view-in-github",
        "colab_type": "text"
      },
      "source": [
        "<a href=\"https://colab.research.google.com/github/JhonatanPeixoto/JhonatanPeixoto/blob/main/Projeto_Final(Allan%2C_Fabio%2C_Jhonatan%2C_Vitor)_Estudo_de_Caso_TripAdvisor.ipynb\" target=\"_parent\"><img src=\"https://colab.research.google.com/assets/colab-badge.svg\" alt=\"Open In Colab\"/></a>"
      ]
    },
    {
      "cell_type": "code",
      "execution_count": null,
      "metadata": {
        "id": "_UYOmXFXDsDh"
      },
      "outputs": [],
      "source": [
        "!pip install selenium\n",
        "\n",
        "!apt-get update\n",
        "!apt install chromium-chromedriver\n",
        "\n",
        "!cp /usr/lib/chromium-browser/chromedriver /usr/bin\n",
        "\n",
        "import sys\n",
        "sys.path.insert(0, \n",
        "            '/usr/lib/chromium-browser/chromedriver')\n",
        "\n",
        "from selenium import webdriver\n",
        "\n",
        "chrome_options = webdriver.ChromeOptions()\n",
        "chrome_options.add_argument('--headless')\n",
        "chrome_options.add_argument('--no-sandbox')\n",
        "chrome_options.add_argument('--disable-dev-shm-usage')"
      ]
    },
    {
      "cell_type": "code",
      "source": [
        "# Importar biblioteca de regex\n",
        "import re\n",
        "\n",
        "# Importar biblioteca nltk para remoção de stop words\n",
        "import nltk\n",
        "from nltk.corpus import stopwords\n",
        "from nltk.tokenize import word_tokenize\n",
        "\n",
        "# Biblioteca para remoção de caracteres especiais\n",
        "from unicodedata import normalize\n",
        "from string import punctuation"
      ],
      "metadata": {
        "id": "gtIASgMejbBY"
      },
      "execution_count": null,
      "outputs": []
    },
    {
      "cell_type": "code",
      "source": [
        "nltk.download('stopwords')\n",
        "nltk.download('punkt')"
      ],
      "metadata": {
        "id": "_DDeqangjr52"
      },
      "execution_count": null,
      "outputs": []
    },
    {
      "cell_type": "code",
      "source": [
        "from bs4 import BeautifulSoup as bs\n",
        "import pandas as pd"
      ],
      "metadata": {
        "id": "2vleMwIAEIlJ"
      },
      "execution_count": null,
      "outputs": []
    },
    {
      "cell_type": "code",
      "source": [
        "browser = webdriver.Chrome('chromedriver', options=chrome_options)"
      ],
      "metadata": {
        "id": "dpiEy5n4EwWT"
      },
      "execution_count": null,
      "outputs": []
    },
    {
      "cell_type": "code",
      "source": [
        "url = 'https://www.tripadvisor.com.br/Restaurants-g303324-Goiania_State_of_Goias.html'"
      ],
      "metadata": {
        "id": "dS7je_ZJEInP"
      },
      "execution_count": null,
      "outputs": []
    },
    {
      "cell_type": "code",
      "source": [
        "browser.get(url)"
      ],
      "metadata": {
        "id": "Mjn2B_HMEIpV"
      },
      "execution_count": null,
      "outputs": []
    },
    {
      "cell_type": "code",
      "source": [
        "b = bs(browser.page_source)"
      ],
      "metadata": {
        "id": "aTyJ2Un9FJVn"
      },
      "execution_count": null,
      "outputs": []
    },
    {
      "cell_type": "code",
      "source": [
        "rests = b.find('div', attrs={'data-test-target':'restaurants-list'})"
      ],
      "metadata": {
        "id": "UqBPy9T9FWqV"
      },
      "execution_count": null,
      "outputs": []
    },
    {
      "cell_type": "code",
      "source": [
        "class_alvo = rests.find('div').find('div')['class'][0]"
      ],
      "metadata": {
        "id": "YbWHH_iQFwyY"
      },
      "execution_count": null,
      "outputs": []
    },
    {
      "cell_type": "code",
      "source": [
        "df = pd.DataFrame(columns=['nome', 'avaliacao', 'descricao'])"
      ],
      "metadata": {
        "id": "O78JjksBLsLZ"
      },
      "execution_count": null,
      "outputs": []
    },
    {
      "cell_type": "code",
      "source": [
        "linha = 0\n",
        "for rest in rests.find_all('div', attrs={'class':class_alvo}):\n",
        "    titulo = rest.find_all('a')[1].text\n",
        "    avaliacao  = rest.find_all('a')[2].text\n",
        "    desc   = rest.find_all('span')[14].text\n",
        "    \n",
        "    if re.search('\\$', desc):\n",
        "        desc   = rest.find_all('span')[12].text\n",
        "\n",
        "    df.loc[linha] = [titulo, avaliacao, desc]\n",
        "    linha+=1"
      ],
      "metadata": {
        "id": "GJ2MrQcNGznj"
      },
      "execution_count": null,
      "outputs": []
    },
    {
      "cell_type": "markdown",
      "source": [
        "###tratar coluna nome:remover numeração com regex, \n",
        "###tratar coluna avaliação: remover o nome \"avaliações\", converter para int\n",
        "###tratar coluna descrição: caixa baixa, remover preposições, acentuações, etc\n"
      ],
      "metadata": {
        "id": "2_sT4AGSiN3v"
      }
    },
    {
      "cell_type": "code",
      "source": [
        "stop_words = stopwords.words('portuguese')"
      ],
      "metadata": {
        "id": "hebZ44WwhWCC"
      },
      "execution_count": null,
      "outputs": []
    },
    {
      "cell_type": "code",
      "source": [
        "stop_words"
      ],
      "metadata": {
        "id": "aCFVV4fRk3yt"
      },
      "execution_count": null,
      "outputs": []
    },
    {
      "cell_type": "code",
      "source": [
        "def remover_sw(texto):\n",
        "    words_token = word_tokenize(texto)\n",
        "    \n",
        "    # sentenca_limpa = []\n",
        "    # for w in words_token:\n",
        "    #     if not w.lower() in stop_words:\n",
        "    #         sentenca_limpa.append(w)\n",
        "\n",
        "    sentenca_limpa = [w for w in words_token if not w.lower() in stop_words]\n",
        "\n",
        "    return ' '.join(sentenca_limpa)"
      ],
      "metadata": {
        "id": "CGvxARsoL797"
      },
      "execution_count": null,
      "outputs": []
    },
    {
      "cell_type": "code",
      "source": [
        "def limpar_texto(texto):\n",
        "    # Tratando caracteres especiais\n",
        "    texto = normalize('NFKD', texto). encode('ASCII', 'ignore').decode('ASCII')\n",
        "    # Removendo pontuações\n",
        "    texto = re.sub(f'[{punctuation}]', '', texto)\n",
        "    # Removendo número\n",
        "    texto = re.sub('[0-9]', '', texto)\n",
        "    # Colocar em caixa baixa\n",
        "    texto = texto.lower()\n",
        "    # Removendo stop words\n",
        "    texto = remover_sw(texto)\n",
        "\n",
        "    return texto"
      ],
      "metadata": {
        "id": "XMBla_Vxkhnd"
      },
      "execution_count": null,
      "outputs": []
    },
    {
      "cell_type": "code",
      "source": [
        "%%time\n",
        "df['descricao'] = df['descricao'].map(limpar_texto)"
      ],
      "metadata": {
        "id": "SV2KLlCElIr9",
        "outputId": "6325ac2c-42df-4c97-c965-8aeacae27888",
        "colab": {
          "base_uri": "https://localhost:8080/"
        }
      },
      "execution_count": null,
      "outputs": [
        {
          "output_type": "stream",
          "name": "stdout",
          "text": [
            "CPU times: user 10.4 ms, sys: 3.87 ms, total: 14.3 ms\n",
            "Wall time: 15.7 ms\n"
          ]
        }
      ]
    },
    {
      "cell_type": "code",
      "source": [
        "df"
      ],
      "metadata": {
        "id": "1MFzgjYXlpp2",
        "outputId": "26ba0200-d520-472e-ef6c-4e2c9d39d1ca",
        "colab": {
          "base_uri": "https://localhost:8080/",
          "height": 990
        }
      },
      "execution_count": null,
      "outputs": [
        {
          "output_type": "execute_result",
          "data": {
            "text/plain": [
              "                                            nome         avaliacao  \\\n",
              "0                       1. Coco Bambu Flamboyant  4.983 avaliações   \n",
              "1                       2. Taji Japanese Cuisine    827 avaliações   \n",
              "2                                3. El Argentino    333 avaliações   \n",
              "3                              4. Íz Restaurante    872 avaliações   \n",
              "4                            5. Ciao Ciao Cucina    176 avaliações   \n",
              "5                         6. Restaurante Popular    311 avaliações   \n",
              "6                           7. Carne de Sol 1008  2.340 avaliações   \n",
              "7                                      8. Madero  1.140 avaliações   \n",
              "8                         9. Pizzaria Pitigliano    721 avaliações   \n",
              "9                              10. Panela Mágica    208 avaliações   \n",
              "10  11. Outback Steakhouse - Shopping Flamboyant  1.807 avaliações   \n",
              "11                              12. Celsin & Cia    450 avaliações   \n",
              "12                  13. Glória Bar e Restaurante    309 avaliações   \n",
              "13                    14. Lifebox Burger Gourmet    515 avaliações   \n",
              "14                15. Madero Flamboyant Shopping    463 avaliações   \n",
              "15                         16. Botequim Mercatto  1.006 avaliações   \n",
              "16                               17. Chão Nativo    441 avaliações   \n",
              "17                                    18. Bahrem    420 avaliações   \n",
              "18                            19. Casa São Paulo    339 avaliações   \n",
              "19                      20. Churrascaria Gramado    402 avaliações   \n",
              "20                                21. Porto Cave    188 avaliações   \n",
              "21                    22. Churrascaria DO Walmor    354 avaliações   \n",
              "22                 23. Kabanas Restaurante e Bar    538 avaliações   \n",
              "23                              24. Bar do Peixe    306 avaliações   \n",
              "24                                 25. Obelisque    279 avaliações   \n",
              "25                          26. Empório Saccaria    777 avaliações   \n",
              "26                          27. Empório Piquiras    993 avaliações   \n",
              "27                          28. Meze Restaurante    111 avaliações   \n",
              "28                         29. Tucunaré na Chapa    346 avaliações   \n",
              "29                          30. Las Nenas Bistrô    204 avaliações   \n",
              "\n",
              "                      descricao  \n",
              "0         brasileira frutos mar  \n",
              "1             japonesa asiatica  \n",
              "2          steakhouse argentina  \n",
              "3           francesa brasileira  \n",
              "4                  italiana bar  \n",
              "5                    brasileira  \n",
              "6         steakhouse brasileira  \n",
              "7          americana steakhouse  \n",
              "8                italiana pizza  \n",
              "9      brasileira internacional  \n",
              "10               steakhouse bar  \n",
              "11               brasileira bar  \n",
              "12               brasileira bar  \n",
              "13         americana lanchonete  \n",
              "14               steakhouse bar  \n",
              "15        portuguesa brasileira  \n",
              "16                   brasileira  \n",
              "17               brasileira bar  \n",
              "18               italiana pizza  \n",
              "19        steakhouse brasileira  \n",
              "20          europeia portuguesa  \n",
              "21         brasileira churrasco  \n",
              "22      brasileira sulamericana  \n",
              "23        brasileira frutos mar  \n",
              "24          europeia portuguesa  \n",
              "25               brasileira bar  \n",
              "26               brasileira bar  \n",
              "27  internacional contemporanea  \n",
              "28        brasileira frutos mar  \n",
              "29     brasileira contemporanea  "
            ],
            "text/html": [
              "\n",
              "  <div id=\"df-c2af0318-bfb3-4c91-ba98-39c1d579531a\">\n",
              "    <div class=\"colab-df-container\">\n",
              "      <div>\n",
              "<style scoped>\n",
              "    .dataframe tbody tr th:only-of-type {\n",
              "        vertical-align: middle;\n",
              "    }\n",
              "\n",
              "    .dataframe tbody tr th {\n",
              "        vertical-align: top;\n",
              "    }\n",
              "\n",
              "    .dataframe thead th {\n",
              "        text-align: right;\n",
              "    }\n",
              "</style>\n",
              "<table border=\"1\" class=\"dataframe\">\n",
              "  <thead>\n",
              "    <tr style=\"text-align: right;\">\n",
              "      <th></th>\n",
              "      <th>nome</th>\n",
              "      <th>avaliacao</th>\n",
              "      <th>descricao</th>\n",
              "    </tr>\n",
              "  </thead>\n",
              "  <tbody>\n",
              "    <tr>\n",
              "      <th>0</th>\n",
              "      <td>1. Coco Bambu Flamboyant</td>\n",
              "      <td>4.983 avaliações</td>\n",
              "      <td>brasileira frutos mar</td>\n",
              "    </tr>\n",
              "    <tr>\n",
              "      <th>1</th>\n",
              "      <td>2. Taji Japanese Cuisine</td>\n",
              "      <td>827 avaliações</td>\n",
              "      <td>japonesa asiatica</td>\n",
              "    </tr>\n",
              "    <tr>\n",
              "      <th>2</th>\n",
              "      <td>3. El Argentino</td>\n",
              "      <td>333 avaliações</td>\n",
              "      <td>steakhouse argentina</td>\n",
              "    </tr>\n",
              "    <tr>\n",
              "      <th>3</th>\n",
              "      <td>4. Íz Restaurante</td>\n",
              "      <td>872 avaliações</td>\n",
              "      <td>francesa brasileira</td>\n",
              "    </tr>\n",
              "    <tr>\n",
              "      <th>4</th>\n",
              "      <td>5. Ciao Ciao Cucina</td>\n",
              "      <td>176 avaliações</td>\n",
              "      <td>italiana bar</td>\n",
              "    </tr>\n",
              "    <tr>\n",
              "      <th>5</th>\n",
              "      <td>6. Restaurante Popular</td>\n",
              "      <td>311 avaliações</td>\n",
              "      <td>brasileira</td>\n",
              "    </tr>\n",
              "    <tr>\n",
              "      <th>6</th>\n",
              "      <td>7. Carne de Sol 1008</td>\n",
              "      <td>2.340 avaliações</td>\n",
              "      <td>steakhouse brasileira</td>\n",
              "    </tr>\n",
              "    <tr>\n",
              "      <th>7</th>\n",
              "      <td>8. Madero</td>\n",
              "      <td>1.140 avaliações</td>\n",
              "      <td>americana steakhouse</td>\n",
              "    </tr>\n",
              "    <tr>\n",
              "      <th>8</th>\n",
              "      <td>9. Pizzaria Pitigliano</td>\n",
              "      <td>721 avaliações</td>\n",
              "      <td>italiana pizza</td>\n",
              "    </tr>\n",
              "    <tr>\n",
              "      <th>9</th>\n",
              "      <td>10. Panela Mágica</td>\n",
              "      <td>208 avaliações</td>\n",
              "      <td>brasileira internacional</td>\n",
              "    </tr>\n",
              "    <tr>\n",
              "      <th>10</th>\n",
              "      <td>11. Outback Steakhouse - Shopping Flamboyant</td>\n",
              "      <td>1.807 avaliações</td>\n",
              "      <td>steakhouse bar</td>\n",
              "    </tr>\n",
              "    <tr>\n",
              "      <th>11</th>\n",
              "      <td>12. Celsin &amp; Cia</td>\n",
              "      <td>450 avaliações</td>\n",
              "      <td>brasileira bar</td>\n",
              "    </tr>\n",
              "    <tr>\n",
              "      <th>12</th>\n",
              "      <td>13. Glória Bar e Restaurante</td>\n",
              "      <td>309 avaliações</td>\n",
              "      <td>brasileira bar</td>\n",
              "    </tr>\n",
              "    <tr>\n",
              "      <th>13</th>\n",
              "      <td>14. Lifebox Burger Gourmet</td>\n",
              "      <td>515 avaliações</td>\n",
              "      <td>americana lanchonete</td>\n",
              "    </tr>\n",
              "    <tr>\n",
              "      <th>14</th>\n",
              "      <td>15. Madero Flamboyant Shopping</td>\n",
              "      <td>463 avaliações</td>\n",
              "      <td>steakhouse bar</td>\n",
              "    </tr>\n",
              "    <tr>\n",
              "      <th>15</th>\n",
              "      <td>16. Botequim Mercatto</td>\n",
              "      <td>1.006 avaliações</td>\n",
              "      <td>portuguesa brasileira</td>\n",
              "    </tr>\n",
              "    <tr>\n",
              "      <th>16</th>\n",
              "      <td>17. Chão Nativo</td>\n",
              "      <td>441 avaliações</td>\n",
              "      <td>brasileira</td>\n",
              "    </tr>\n",
              "    <tr>\n",
              "      <th>17</th>\n",
              "      <td>18. Bahrem</td>\n",
              "      <td>420 avaliações</td>\n",
              "      <td>brasileira bar</td>\n",
              "    </tr>\n",
              "    <tr>\n",
              "      <th>18</th>\n",
              "      <td>19. Casa São Paulo</td>\n",
              "      <td>339 avaliações</td>\n",
              "      <td>italiana pizza</td>\n",
              "    </tr>\n",
              "    <tr>\n",
              "      <th>19</th>\n",
              "      <td>20. Churrascaria Gramado</td>\n",
              "      <td>402 avaliações</td>\n",
              "      <td>steakhouse brasileira</td>\n",
              "    </tr>\n",
              "    <tr>\n",
              "      <th>20</th>\n",
              "      <td>21. Porto Cave</td>\n",
              "      <td>188 avaliações</td>\n",
              "      <td>europeia portuguesa</td>\n",
              "    </tr>\n",
              "    <tr>\n",
              "      <th>21</th>\n",
              "      <td>22. Churrascaria DO Walmor</td>\n",
              "      <td>354 avaliações</td>\n",
              "      <td>brasileira churrasco</td>\n",
              "    </tr>\n",
              "    <tr>\n",
              "      <th>22</th>\n",
              "      <td>23. Kabanas Restaurante e Bar</td>\n",
              "      <td>538 avaliações</td>\n",
              "      <td>brasileira sulamericana</td>\n",
              "    </tr>\n",
              "    <tr>\n",
              "      <th>23</th>\n",
              "      <td>24. Bar do Peixe</td>\n",
              "      <td>306 avaliações</td>\n",
              "      <td>brasileira frutos mar</td>\n",
              "    </tr>\n",
              "    <tr>\n",
              "      <th>24</th>\n",
              "      <td>25. Obelisque</td>\n",
              "      <td>279 avaliações</td>\n",
              "      <td>europeia portuguesa</td>\n",
              "    </tr>\n",
              "    <tr>\n",
              "      <th>25</th>\n",
              "      <td>26. Empório Saccaria</td>\n",
              "      <td>777 avaliações</td>\n",
              "      <td>brasileira bar</td>\n",
              "    </tr>\n",
              "    <tr>\n",
              "      <th>26</th>\n",
              "      <td>27. Empório Piquiras</td>\n",
              "      <td>993 avaliações</td>\n",
              "      <td>brasileira bar</td>\n",
              "    </tr>\n",
              "    <tr>\n",
              "      <th>27</th>\n",
              "      <td>28. Meze Restaurante</td>\n",
              "      <td>111 avaliações</td>\n",
              "      <td>internacional contemporanea</td>\n",
              "    </tr>\n",
              "    <tr>\n",
              "      <th>28</th>\n",
              "      <td>29. Tucunaré na Chapa</td>\n",
              "      <td>346 avaliações</td>\n",
              "      <td>brasileira frutos mar</td>\n",
              "    </tr>\n",
              "    <tr>\n",
              "      <th>29</th>\n",
              "      <td>30. Las Nenas Bistrô</td>\n",
              "      <td>204 avaliações</td>\n",
              "      <td>brasileira contemporanea</td>\n",
              "    </tr>\n",
              "  </tbody>\n",
              "</table>\n",
              "</div>\n",
              "      <button class=\"colab-df-convert\" onclick=\"convertToInteractive('df-c2af0318-bfb3-4c91-ba98-39c1d579531a')\"\n",
              "              title=\"Convert this dataframe to an interactive table.\"\n",
              "              style=\"display:none;\">\n",
              "        \n",
              "  <svg xmlns=\"http://www.w3.org/2000/svg\" height=\"24px\"viewBox=\"0 0 24 24\"\n",
              "       width=\"24px\">\n",
              "    <path d=\"M0 0h24v24H0V0z\" fill=\"none\"/>\n",
              "    <path d=\"M18.56 5.44l.94 2.06.94-2.06 2.06-.94-2.06-.94-.94-2.06-.94 2.06-2.06.94zm-11 1L8.5 8.5l.94-2.06 2.06-.94-2.06-.94L8.5 2.5l-.94 2.06-2.06.94zm10 10l.94 2.06.94-2.06 2.06-.94-2.06-.94-.94-2.06-.94 2.06-2.06.94z\"/><path d=\"M17.41 7.96l-1.37-1.37c-.4-.4-.92-.59-1.43-.59-.52 0-1.04.2-1.43.59L10.3 9.45l-7.72 7.72c-.78.78-.78 2.05 0 2.83L4 21.41c.39.39.9.59 1.41.59.51 0 1.02-.2 1.41-.59l7.78-7.78 2.81-2.81c.8-.78.8-2.07 0-2.86zM5.41 20L4 18.59l7.72-7.72 1.47 1.35L5.41 20z\"/>\n",
              "  </svg>\n",
              "      </button>\n",
              "      \n",
              "  <style>\n",
              "    .colab-df-container {\n",
              "      display:flex;\n",
              "      flex-wrap:wrap;\n",
              "      gap: 12px;\n",
              "    }\n",
              "\n",
              "    .colab-df-convert {\n",
              "      background-color: #E8F0FE;\n",
              "      border: none;\n",
              "      border-radius: 50%;\n",
              "      cursor: pointer;\n",
              "      display: none;\n",
              "      fill: #1967D2;\n",
              "      height: 32px;\n",
              "      padding: 0 0 0 0;\n",
              "      width: 32px;\n",
              "    }\n",
              "\n",
              "    .colab-df-convert:hover {\n",
              "      background-color: #E2EBFA;\n",
              "      box-shadow: 0px 1px 2px rgba(60, 64, 67, 0.3), 0px 1px 3px 1px rgba(60, 64, 67, 0.15);\n",
              "      fill: #174EA6;\n",
              "    }\n",
              "\n",
              "    [theme=dark] .colab-df-convert {\n",
              "      background-color: #3B4455;\n",
              "      fill: #D2E3FC;\n",
              "    }\n",
              "\n",
              "    [theme=dark] .colab-df-convert:hover {\n",
              "      background-color: #434B5C;\n",
              "      box-shadow: 0px 1px 3px 1px rgba(0, 0, 0, 0.15);\n",
              "      filter: drop-shadow(0px 1px 2px rgba(0, 0, 0, 0.3));\n",
              "      fill: #FFFFFF;\n",
              "    }\n",
              "  </style>\n",
              "\n",
              "      <script>\n",
              "        const buttonEl =\n",
              "          document.querySelector('#df-c2af0318-bfb3-4c91-ba98-39c1d579531a button.colab-df-convert');\n",
              "        buttonEl.style.display =\n",
              "          google.colab.kernel.accessAllowed ? 'block' : 'none';\n",
              "\n",
              "        async function convertToInteractive(key) {\n",
              "          const element = document.querySelector('#df-c2af0318-bfb3-4c91-ba98-39c1d579531a');\n",
              "          const dataTable =\n",
              "            await google.colab.kernel.invokeFunction('convertToInteractive',\n",
              "                                                     [key], {});\n",
              "          if (!dataTable) return;\n",
              "\n",
              "          const docLinkHtml = 'Like what you see? Visit the ' +\n",
              "            '<a target=\"_blank\" href=https://colab.research.google.com/notebooks/data_table.ipynb>data table notebook</a>'\n",
              "            + ' to learn more about interactive tables.';\n",
              "          element.innerHTML = '';\n",
              "          dataTable['output_type'] = 'display_data';\n",
              "          await google.colab.output.renderOutput(dataTable, element);\n",
              "          const docLink = document.createElement('div');\n",
              "          docLink.innerHTML = docLinkHtml;\n",
              "          element.appendChild(docLink);\n",
              "        }\n",
              "      </script>\n",
              "    </div>\n",
              "  </div>\n",
              "  "
            ]
          },
          "metadata": {},
          "execution_count": 34
        }
      ]
    },
    {
      "cell_type": "code",
      "source": [
        "rests.find_all('div', attrs={'class':class_alvo})[14]"
      ],
      "metadata": {
        "id": "SVfzYdAcLCUP"
      },
      "execution_count": null,
      "outputs": []
    },
    {
      "cell_type": "code",
      "source": [
        "for i, s in enumerate(rests.find_all('div', attrs={'class':class_alvo})[14].find_all('span')):\n",
        "    print(i, s.text)"
      ],
      "metadata": {
        "id": "LbUPiEVnG8-u"
      },
      "execution_count": null,
      "outputs": []
    }
  ]
}